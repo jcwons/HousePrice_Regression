{
 "cells": [
  {
   "cell_type": "markdown",
   "id": "8e5ecc9c",
   "metadata": {
    "papermill": {
     "duration": 0.034037,
     "end_time": "2023-08-10T08:44:17.085451",
     "exception": false,
     "start_time": "2023-08-10T08:44:17.051414",
     "status": "completed"
    },
    "tags": []
   },
   "source": [
    "# Explorative Data Analysis"
   ]
  },
  {
   "cell_type": "markdown",
   "id": "2d4c3d6b",
   "metadata": {
    "papermill": {
     "duration": 0.033404,
     "end_time": "2023-08-10T08:44:17.153228",
     "exception": false,
     "start_time": "2023-08-10T08:44:17.119824",
     "status": "completed"
    },
    "tags": []
   },
   "source": [
    "The goal of this notebook is to have a first look at the data set provided with focus on the features. It will be covering the following steps:\n",
    "* Explore correlation between features and target (SalePrice)\n",
    "* Identify important features\n",
    "* Identify identical features\n",
    "* Deal with missing values\n",
    "The final output will be a cleaned data set in form of a csv-file. The cleaned data set can then be analysed to predict the SalePrice of the test data."
   ]
  },
  {
   "cell_type": "code",
   "execution_count": 4,
   "id": "164e6ba4",
   "metadata": {
    "_cell_guid": "b1076dfc-b9ad-4769-8c92-a6c4dae69d19",
    "_uuid": "8f2839f25d086af736a60e9eeb907d3b93b6e0e5",
    "execution": {
     "iopub.execute_input": "2023-08-10T08:44:17.221969Z",
     "iopub.status.busy": "2023-08-10T08:44:17.221358Z",
     "iopub.status.idle": "2023-08-10T08:44:18.854455Z",
     "shell.execute_reply": "2023-08-10T08:44:18.852845Z"
    },
    "papermill": {
     "duration": 1.670772,
     "end_time": "2023-08-10T08:44:18.857518",
     "exception": false,
     "start_time": "2023-08-10T08:44:17.186746",
     "status": "completed"
    },
    "tags": []
   },
   "outputs": [],
   "source": [
    "import numpy as np \n",
    "import pandas as pd\n",
    "import matplotlib.pyplot as plt\n",
    "import seaborn as sns\n",
    "import os"
   ]
  },
  {
   "cell_type": "code",
   "execution_count": 3,
   "id": "b23dc7f9",
   "metadata": {
    "execution": {
     "iopub.execute_input": "2023-08-10T08:44:18.926044Z",
     "iopub.status.busy": "2023-08-10T08:44:18.925574Z",
     "iopub.status.idle": "2023-08-10T08:44:19.031642Z",
     "shell.execute_reply": "2023-08-10T08:44:19.030236Z"
    },
    "papermill": {
     "duration": 0.144967,
     "end_time": "2023-08-10T08:44:19.035679",
     "exception": false,
     "start_time": "2023-08-10T08:44:18.890712",
     "status": "completed"
    },
    "tags": []
   },
   "outputs": [],
   "source": [
    "# Load the data sets\n",
    "df_train = pd.read_csv('./data/train.csv')\n",
    "df_test = pd.read_csv('./data/test.csv')\n"
   ]
  },
  {
   "cell_type": "code",
   "execution_count": 3,
   "id": "2dfd3256",
   "metadata": {
    "execution": {
     "iopub.execute_input": "2023-08-10T08:44:19.103585Z",
     "iopub.status.busy": "2023-08-10T08:44:19.103094Z",
     "iopub.status.idle": "2023-08-10T08:44:19.147001Z",
     "shell.execute_reply": "2023-08-10T08:44:19.146009Z"
    },
    "papermill": {
     "duration": 0.080937,
     "end_time": "2023-08-10T08:44:19.149767",
     "exception": false,
     "start_time": "2023-08-10T08:44:19.068830",
     "status": "completed"
    },
    "tags": []
   },
   "outputs": [
    {
     "data": {
      "text/html": [
       "<div>\n",
       "<style scoped>\n",
       "    .dataframe tbody tr th:only-of-type {\n",
       "        vertical-align: middle;\n",
       "    }\n",
       "\n",
       "    .dataframe tbody tr th {\n",
       "        vertical-align: top;\n",
       "    }\n",
       "\n",
       "    .dataframe thead th {\n",
       "        text-align: right;\n",
       "    }\n",
       "</style>\n",
       "<table border=\"1\" class=\"dataframe\">\n",
       "  <thead>\n",
       "    <tr style=\"text-align: right;\">\n",
       "      <th></th>\n",
       "      <th>Id</th>\n",
       "      <th>MSSubClass</th>\n",
       "      <th>MSZoning</th>\n",
       "      <th>LotFrontage</th>\n",
       "      <th>LotArea</th>\n",
       "      <th>Street</th>\n",
       "      <th>Alley</th>\n",
       "      <th>LotShape</th>\n",
       "      <th>LandContour</th>\n",
       "      <th>Utilities</th>\n",
       "      <th>...</th>\n",
       "      <th>PoolArea</th>\n",
       "      <th>PoolQC</th>\n",
       "      <th>Fence</th>\n",
       "      <th>MiscFeature</th>\n",
       "      <th>MiscVal</th>\n",
       "      <th>MoSold</th>\n",
       "      <th>YrSold</th>\n",
       "      <th>SaleType</th>\n",
       "      <th>SaleCondition</th>\n",
       "      <th>SalePrice</th>\n",
       "    </tr>\n",
       "  </thead>\n",
       "  <tbody>\n",
       "    <tr>\n",
       "      <th>0</th>\n",
       "      <td>1</td>\n",
       "      <td>60</td>\n",
       "      <td>RL</td>\n",
       "      <td>65.0</td>\n",
       "      <td>8450</td>\n",
       "      <td>Pave</td>\n",
       "      <td>NaN</td>\n",
       "      <td>Reg</td>\n",
       "      <td>Lvl</td>\n",
       "      <td>AllPub</td>\n",
       "      <td>...</td>\n",
       "      <td>0</td>\n",
       "      <td>NaN</td>\n",
       "      <td>NaN</td>\n",
       "      <td>NaN</td>\n",
       "      <td>0</td>\n",
       "      <td>2</td>\n",
       "      <td>2008</td>\n",
       "      <td>WD</td>\n",
       "      <td>Normal</td>\n",
       "      <td>208500</td>\n",
       "    </tr>\n",
       "    <tr>\n",
       "      <th>1</th>\n",
       "      <td>2</td>\n",
       "      <td>20</td>\n",
       "      <td>RL</td>\n",
       "      <td>80.0</td>\n",
       "      <td>9600</td>\n",
       "      <td>Pave</td>\n",
       "      <td>NaN</td>\n",
       "      <td>Reg</td>\n",
       "      <td>Lvl</td>\n",
       "      <td>AllPub</td>\n",
       "      <td>...</td>\n",
       "      <td>0</td>\n",
       "      <td>NaN</td>\n",
       "      <td>NaN</td>\n",
       "      <td>NaN</td>\n",
       "      <td>0</td>\n",
       "      <td>5</td>\n",
       "      <td>2007</td>\n",
       "      <td>WD</td>\n",
       "      <td>Normal</td>\n",
       "      <td>181500</td>\n",
       "    </tr>\n",
       "    <tr>\n",
       "      <th>2</th>\n",
       "      <td>3</td>\n",
       "      <td>60</td>\n",
       "      <td>RL</td>\n",
       "      <td>68.0</td>\n",
       "      <td>11250</td>\n",
       "      <td>Pave</td>\n",
       "      <td>NaN</td>\n",
       "      <td>IR1</td>\n",
       "      <td>Lvl</td>\n",
       "      <td>AllPub</td>\n",
       "      <td>...</td>\n",
       "      <td>0</td>\n",
       "      <td>NaN</td>\n",
       "      <td>NaN</td>\n",
       "      <td>NaN</td>\n",
       "      <td>0</td>\n",
       "      <td>9</td>\n",
       "      <td>2008</td>\n",
       "      <td>WD</td>\n",
       "      <td>Normal</td>\n",
       "      <td>223500</td>\n",
       "    </tr>\n",
       "    <tr>\n",
       "      <th>3</th>\n",
       "      <td>4</td>\n",
       "      <td>70</td>\n",
       "      <td>RL</td>\n",
       "      <td>60.0</td>\n",
       "      <td>9550</td>\n",
       "      <td>Pave</td>\n",
       "      <td>NaN</td>\n",
       "      <td>IR1</td>\n",
       "      <td>Lvl</td>\n",
       "      <td>AllPub</td>\n",
       "      <td>...</td>\n",
       "      <td>0</td>\n",
       "      <td>NaN</td>\n",
       "      <td>NaN</td>\n",
       "      <td>NaN</td>\n",
       "      <td>0</td>\n",
       "      <td>2</td>\n",
       "      <td>2006</td>\n",
       "      <td>WD</td>\n",
       "      <td>Abnorml</td>\n",
       "      <td>140000</td>\n",
       "    </tr>\n",
       "    <tr>\n",
       "      <th>4</th>\n",
       "      <td>5</td>\n",
       "      <td>60</td>\n",
       "      <td>RL</td>\n",
       "      <td>84.0</td>\n",
       "      <td>14260</td>\n",
       "      <td>Pave</td>\n",
       "      <td>NaN</td>\n",
       "      <td>IR1</td>\n",
       "      <td>Lvl</td>\n",
       "      <td>AllPub</td>\n",
       "      <td>...</td>\n",
       "      <td>0</td>\n",
       "      <td>NaN</td>\n",
       "      <td>NaN</td>\n",
       "      <td>NaN</td>\n",
       "      <td>0</td>\n",
       "      <td>12</td>\n",
       "      <td>2008</td>\n",
       "      <td>WD</td>\n",
       "      <td>Normal</td>\n",
       "      <td>250000</td>\n",
       "    </tr>\n",
       "  </tbody>\n",
       "</table>\n",
       "<p>5 rows × 81 columns</p>\n",
       "</div>"
      ],
      "text/plain": [
       "   Id  MSSubClass MSZoning  LotFrontage  LotArea Street Alley LotShape  \\\n",
       "0   1          60       RL         65.0     8450   Pave   NaN      Reg   \n",
       "1   2          20       RL         80.0     9600   Pave   NaN      Reg   \n",
       "2   3          60       RL         68.0    11250   Pave   NaN      IR1   \n",
       "3   4          70       RL         60.0     9550   Pave   NaN      IR1   \n",
       "4   5          60       RL         84.0    14260   Pave   NaN      IR1   \n",
       "\n",
       "  LandContour Utilities  ... PoolArea PoolQC Fence MiscFeature MiscVal MoSold  \\\n",
       "0         Lvl    AllPub  ...        0    NaN   NaN         NaN       0      2   \n",
       "1         Lvl    AllPub  ...        0    NaN   NaN         NaN       0      5   \n",
       "2         Lvl    AllPub  ...        0    NaN   NaN         NaN       0      9   \n",
       "3         Lvl    AllPub  ...        0    NaN   NaN         NaN       0      2   \n",
       "4         Lvl    AllPub  ...        0    NaN   NaN         NaN       0     12   \n",
       "\n",
       "  YrSold  SaleType  SaleCondition  SalePrice  \n",
       "0   2008        WD         Normal     208500  \n",
       "1   2007        WD         Normal     181500  \n",
       "2   2008        WD         Normal     223500  \n",
       "3   2006        WD        Abnorml     140000  \n",
       "4   2008        WD         Normal     250000  \n",
       "\n",
       "[5 rows x 81 columns]"
      ]
     },
     "execution_count": 3,
     "metadata": {},
     "output_type": "execute_result"
    }
   ],
   "source": [
    "df_train.head()"
   ]
  },
  {
   "cell_type": "markdown",
   "id": "360eee2e",
   "metadata": {
    "papermill": {
     "duration": 0.034124,
     "end_time": "2023-08-10T08:44:19.218073",
     "exception": false,
     "start_time": "2023-08-10T08:44:19.183949",
     "status": "completed"
    },
    "tags": []
   },
   "source": [
    "We can see both numerical and categorical features. There are also features including many NaN values. This will be something we have to take care of later."
   ]
  },
  {
   "cell_type": "code",
   "execution_count": 4,
   "id": "862fe7c0",
   "metadata": {
    "execution": {
     "iopub.execute_input": "2023-08-10T08:44:19.288426Z",
     "iopub.status.busy": "2023-08-10T08:44:19.287127Z",
     "iopub.status.idle": "2023-08-10T08:44:19.340809Z",
     "shell.execute_reply": "2023-08-10T08:44:19.339348Z"
    },
    "papermill": {
     "duration": 0.093204,
     "end_time": "2023-08-10T08:44:19.344778",
     "exception": false,
     "start_time": "2023-08-10T08:44:19.251574",
     "status": "completed"
    },
    "tags": []
   },
   "outputs": [
    {
     "name": "stdout",
     "output_type": "stream",
     "text": [
      "<class 'pandas.core.frame.DataFrame'>\n",
      "RangeIndex: 1460 entries, 0 to 1459\n",
      "Data columns (total 81 columns):\n",
      " #   Column         Non-Null Count  Dtype  \n",
      "---  ------         --------------  -----  \n",
      " 0   Id             1460 non-null   int64  \n",
      " 1   MSSubClass     1460 non-null   int64  \n",
      " 2   MSZoning       1460 non-null   object \n",
      " 3   LotFrontage    1201 non-null   float64\n",
      " 4   LotArea        1460 non-null   int64  \n",
      " 5   Street         1460 non-null   object \n",
      " 6   Alley          91 non-null     object \n",
      " 7   LotShape       1460 non-null   object \n",
      " 8   LandContour    1460 non-null   object \n",
      " 9   Utilities      1460 non-null   object \n",
      " 10  LotConfig      1460 non-null   object \n",
      " 11  LandSlope      1460 non-null   object \n",
      " 12  Neighborhood   1460 non-null   object \n",
      " 13  Condition1     1460 non-null   object \n",
      " 14  Condition2     1460 non-null   object \n",
      " 15  BldgType       1460 non-null   object \n",
      " 16  HouseStyle     1460 non-null   object \n",
      " 17  OverallQual    1460 non-null   int64  \n",
      " 18  OverallCond    1460 non-null   int64  \n",
      " 19  YearBuilt      1460 non-null   int64  \n",
      " 20  YearRemodAdd   1460 non-null   int64  \n",
      " 21  RoofStyle      1460 non-null   object \n",
      " 22  RoofMatl       1460 non-null   object \n",
      " 23  Exterior1st    1460 non-null   object \n",
      " 24  Exterior2nd    1460 non-null   object \n",
      " 25  MasVnrType     1452 non-null   object \n",
      " 26  MasVnrArea     1452 non-null   float64\n",
      " 27  ExterQual      1460 non-null   object \n",
      " 28  ExterCond      1460 non-null   object \n",
      " 29  Foundation     1460 non-null   object \n",
      " 30  BsmtQual       1423 non-null   object \n",
      " 31  BsmtCond       1423 non-null   object \n",
      " 32  BsmtExposure   1422 non-null   object \n",
      " 33  BsmtFinType1   1423 non-null   object \n",
      " 34  BsmtFinSF1     1460 non-null   int64  \n",
      " 35  BsmtFinType2   1422 non-null   object \n",
      " 36  BsmtFinSF2     1460 non-null   int64  \n",
      " 37  BsmtUnfSF      1460 non-null   int64  \n",
      " 38  TotalBsmtSF    1460 non-null   int64  \n",
      " 39  Heating        1460 non-null   object \n",
      " 40  HeatingQC      1460 non-null   object \n",
      " 41  CentralAir     1460 non-null   object \n",
      " 42  Electrical     1459 non-null   object \n",
      " 43  1stFlrSF       1460 non-null   int64  \n",
      " 44  2ndFlrSF       1460 non-null   int64  \n",
      " 45  LowQualFinSF   1460 non-null   int64  \n",
      " 46  GrLivArea      1460 non-null   int64  \n",
      " 47  BsmtFullBath   1460 non-null   int64  \n",
      " 48  BsmtHalfBath   1460 non-null   int64  \n",
      " 49  FullBath       1460 non-null   int64  \n",
      " 50  HalfBath       1460 non-null   int64  \n",
      " 51  BedroomAbvGr   1460 non-null   int64  \n",
      " 52  KitchenAbvGr   1460 non-null   int64  \n",
      " 53  KitchenQual    1460 non-null   object \n",
      " 54  TotRmsAbvGrd   1460 non-null   int64  \n",
      " 55  Functional     1460 non-null   object \n",
      " 56  Fireplaces     1460 non-null   int64  \n",
      " 57  FireplaceQu    770 non-null    object \n",
      " 58  GarageType     1379 non-null   object \n",
      " 59  GarageYrBlt    1379 non-null   float64\n",
      " 60  GarageFinish   1379 non-null   object \n",
      " 61  GarageCars     1460 non-null   int64  \n",
      " 62  GarageArea     1460 non-null   int64  \n",
      " 63  GarageQual     1379 non-null   object \n",
      " 64  GarageCond     1379 non-null   object \n",
      " 65  PavedDrive     1460 non-null   object \n",
      " 66  WoodDeckSF     1460 non-null   int64  \n",
      " 67  OpenPorchSF    1460 non-null   int64  \n",
      " 68  EnclosedPorch  1460 non-null   int64  \n",
      " 69  3SsnPorch      1460 non-null   int64  \n",
      " 70  ScreenPorch    1460 non-null   int64  \n",
      " 71  PoolArea       1460 non-null   int64  \n",
      " 72  PoolQC         7 non-null      object \n",
      " 73  Fence          281 non-null    object \n",
      " 74  MiscFeature    54 non-null     object \n",
      " 75  MiscVal        1460 non-null   int64  \n",
      " 76  MoSold         1460 non-null   int64  \n",
      " 77  YrSold         1460 non-null   int64  \n",
      " 78  SaleType       1460 non-null   object \n",
      " 79  SaleCondition  1460 non-null   object \n",
      " 80  SalePrice      1460 non-null   int64  \n",
      "dtypes: float64(3), int64(35), object(43)\n",
      "memory usage: 924.0+ KB\n"
     ]
    }
   ],
   "source": [
    "df_train.info()"
   ]
  },
  {
   "cell_type": "markdown",
   "id": "45c795c7",
   "metadata": {
    "papermill": {
     "duration": 0.032562,
     "end_time": "2023-08-10T08:44:19.411393",
     "exception": false,
     "start_time": "2023-08-10T08:44:19.378831",
     "status": "completed"
    },
    "tags": []
   },
   "source": [
    "## Correlation between features and target"
   ]
  },
  {
   "cell_type": "markdown",
   "id": "8b2ffe66",
   "metadata": {
    "papermill": {
     "duration": 0.032387,
     "end_time": "2023-08-10T08:44:19.479060",
     "exception": false,
     "start_time": "2023-08-10T08:44:19.446673",
     "status": "completed"
    },
    "tags": []
   },
   "source": [
    "We start with a look at the correlation of each feature with the target. This allows us to get a feel for which features will be important and which features might be irrelevant."
   ]
  },
  {
   "cell_type": "code",
   "execution_count": 5,
   "id": "3bbfb3cd",
   "metadata": {
    "execution": {
     "iopub.execute_input": "2023-08-10T08:44:19.548780Z",
     "iopub.status.busy": "2023-08-10T08:44:19.547880Z",
     "iopub.status.idle": "2023-08-10T08:44:20.731251Z",
     "shell.execute_reply": "2023-08-10T08:44:20.730230Z"
    },
    "papermill": {
     "duration": 1.222696,
     "end_time": "2023-08-10T08:44:20.735156",
     "exception": false,
     "start_time": "2023-08-10T08:44:19.512460",
     "status": "completed"
    },
    "tags": []
   },
   "outputs": [
    {
     "name": "stderr",
     "output_type": "stream",
     "text": [
      "/tmp/ipykernel_20/191846104.py:3: FutureWarning: The default value of numeric_only in DataFrame.corr is deprecated. In a future version, it will default to False. Select only valid columns or specify the value of numeric_only to silence this warning.\n",
      "  corrmat = df_train.corr()\n"
     ]
    },
    {
     "data": {
      "image/png": "[encoded data removed]",
      "text/plain": [
       "<Figure size 1200x900 with 2 Axes>"
      ]
     },
     "metadata": {},
     "output_type": "display_data"
    }
   ],
   "source": [
    "#correlation matrix\n",
    "#Using the scientists favourite colormap viridis\n",
    "corrmat = df_train.corr()\n",
    "f, ax = plt.subplots(figsize=(12, 9))\n",
    "sns.heatmap(corrmat, vmax=1, cmap='viridis');"
   ]
  },
  {
   "cell_type": "markdown",
   "id": "e4e1e013",
   "metadata": {
    "papermill": {
     "duration": 0.036772,
     "end_time": "2023-08-10T08:44:20.809136",
     "exception": false,
     "start_time": "2023-08-10T08:44:20.772364",
     "status": "completed"
    },
    "tags": []
   },
   "source": [
    "Having a look at the bottom row gives us an idea of which features show strong correlation between the SalePrize and the features. Everything green to yellow shows strong significant correlation."
   ]
  },
  {
   "cell_type": "markdown",
   "id": "64ee5472",
   "metadata": {
    "papermill": {
     "duration": 0.035984,
     "end_time": "2023-08-10T08:44:20.883011",
     "exception": false,
     "start_time": "2023-08-10T08:44:20.847027",
     "status": "completed"
    },
    "tags": []
   },
   "source": [
    "Let's narrow down on the top 10 contributions"
   ]
  },
  {
   "cell_type": "code",
   "execution_count": 6,
   "id": "c0fcf7e1",
   "metadata": {
    "execution": {
     "iopub.execute_input": "2023-08-10T08:44:20.959452Z",
     "iopub.status.busy": "2023-08-10T08:44:20.959002Z",
     "iopub.status.idle": "2023-08-10T08:44:21.755448Z",
     "shell.execute_reply": "2023-08-10T08:44:21.754111Z"
    },
    "papermill": {
     "duration": 0.839214,
     "end_time": "2023-08-10T08:44:21.759218",
     "exception": false,
     "start_time": "2023-08-10T08:44:20.920004",
     "status": "completed"
    },
    "tags": []
   },
   "outputs": [
    {
     "data": {
      "image/png": "[encoded data removed]",
      "text/plain": [
       "<Figure size 640x480 with 2 Axes>"
      ]
     },
     "metadata": {},
     "output_type": "display_data"
    }
   ],
   "source": [
    "#saleprice correlation matrix\n",
    "k = 10 #number of variables for heatmap\n",
    "cols = corrmat.nlargest(k, 'SalePrice')['SalePrice'].index\n",
    "cm = np.corrcoef(df_train[cols].values.T)\n",
    "sns.set(font_scale=1.25)\n",
    "hm = sns.heatmap(cm, cbar=True, annot=True, cmap='viridis', square=True, fmt='.2f', annot_kws={'size': 10}, yticklabels=cols.values, xticklabels=cols.values)\n",
    "plt.show()"
   ]
  },
  {
   "cell_type": "markdown",
   "id": "3ef64691",
   "metadata": {
    "papermill": {
     "duration": 0.03786,
     "end_time": "2023-08-10T08:44:21.835330",
     "exception": false,
     "start_time": "2023-08-10T08:44:21.797470",
     "status": "completed"
    },
    "tags": []
   },
   "source": [
    "OverallQual shows the strongest correlation followed by the GrLivArea. Furthermore, we see that several features are strongly correlated such as the GarageArea and GarageCars. This makes sense."
   ]
  },
  {
   "cell_type": "markdown",
   "id": "361f7841",
   "metadata": {
    "papermill": {
     "duration": 0.037683,
     "end_time": "2023-08-10T08:44:21.911436",
     "exception": false,
     "start_time": "2023-08-10T08:44:21.873753",
     "status": "completed"
    },
    "tags": []
   },
   "source": [
    "## Cross-correlation between features"
   ]
  },
  {
   "cell_type": "markdown",
   "id": "3e6981e5",
   "metadata": {
    "papermill": {
     "duration": 0.037799,
     "end_time": "2023-08-10T08:44:21.987334",
     "exception": false,
     "start_time": "2023-08-10T08:44:21.949535",
     "status": "completed"
    },
    "tags": []
   },
   "source": [
    "Our first look at the correlation heatmap has shown that several features are strongly correlated with each other. This means some features might contain the same information and can be dropped. "
   ]
  },
  {
   "cell_type": "markdown",
   "id": "839b8a3d",
   "metadata": {
    "papermill": {
     "duration": 0.03917,
     "end_time": "2023-08-10T08:44:22.065204",
     "exception": false,
     "start_time": "2023-08-10T08:44:22.026034",
     "status": "completed"
    },
    "tags": []
   },
   "source": [
    "We list the features that are correlated the strongest"
   ]
  },
  {
   "cell_type": "code",
   "execution_count": 7,
   "id": "a9e3b50d",
   "metadata": {
    "execution": {
     "iopub.execute_input": "2023-08-10T08:44:22.148835Z",
     "iopub.status.busy": "2023-08-10T08:44:22.147842Z",
     "iopub.status.idle": "2023-08-10T08:44:22.176940Z",
     "shell.execute_reply": "2023-08-10T08:44:22.175318Z"
    },
    "papermill": {
     "duration": 0.075067,
     "end_time": "2023-08-10T08:44:22.179594",
     "exception": false,
     "start_time": "2023-08-10T08:44:22.104527",
     "status": "completed"
    },
    "tags": []
   },
   "outputs": [
    {
     "name": "stderr",
     "output_type": "stream",
     "text": [
      "/tmp/ipykernel_20/4143444747.py:2: FutureWarning: The default value of numeric_only in DataFrame.corr is deprecated. In a future version, it will default to False. Select only valid columns or specify the value of numeric_only to silence this warning.\n",
      "  cross_corr_mat = cross_corr_mat.corr()\n"
     ]
    },
    {
     "data": {
      "text/plain": [
       "Id            Id              1.000000\n",
       "GarageArea    GarageCars      0.882475\n",
       "GarageYrBlt   YearBuilt       0.825667\n",
       "GrLivArea     TotRmsAbvGrd    0.825489\n",
       "TotalBsmtSF   1stFlrSF        0.819530\n",
       "2ndFlrSF      GrLivArea       0.687501\n",
       "TotRmsAbvGrd  BedroomAbvGr    0.676620\n",
       "BsmtFinSF1    BsmtFullBath    0.649212\n",
       "YearRemodAdd  GarageYrBlt     0.642277\n",
       "FullBath      GrLivArea       0.630012\n",
       "2ndFlrSF      TotRmsAbvGrd    0.616423\n",
       "              HalfBath        0.609707\n",
       "GarageCars    OverallQual     0.600671\n",
       "OverallQual   GrLivArea       0.593007\n",
       "YearRemodAdd  YearBuilt       0.592855\n",
       "dtype: float64"
      ]
     },
     "execution_count": 7,
     "metadata": {},
     "output_type": "execute_result"
    }
   ],
   "source": [
    "cross_corr_mat = df_train.drop('SalePrice', axis=1) # Drop Sale price as we are only interested in feature correlation\n",
    "cross_corr_mat = cross_corr_mat.corr()\n",
    "cross_corr_mat.unstack().sort_values(ascending=False).drop_duplicates().head(15)"
   ]
  },
  {
   "cell_type": "markdown",
   "id": "8ddc24b2",
   "metadata": {
    "papermill": {
     "duration": 0.038416,
     "end_time": "2023-08-10T08:44:22.257596",
     "exception": false,
     "start_time": "2023-08-10T08:44:22.219180",
     "status": "completed"
    },
    "tags": []
   },
   "source": [
    "GarageArea and GarageCars is strongly correlated. \n",
    "* We keep GarageCars and drop GarageArea\n",
    "\n",
    "GarageYrBlt and YearBuilt are also strongly correlated. House and Garage were built together. \n",
    "* We drop GarageYrBlt\n",
    "\n",
    "GrLivArea and TotRmsAbvGrd: Living area and number of rooms are correlated.\n",
    "TotalBsmtSF and 1stFlrS: First floor and basement are generally the same size explaining this correlation\n",
    "* Add a feature calculating the total living area (with and without basement)"
   ]
  },
  {
   "cell_type": "code",
   "execution_count": 8,
   "id": "47b5fa18",
   "metadata": {
    "execution": {
     "iopub.execute_input": "2023-08-10T08:44:22.337928Z",
     "iopub.status.busy": "2023-08-10T08:44:22.337451Z",
     "iopub.status.idle": "2023-08-10T08:44:22.361005Z",
     "shell.execute_reply": "2023-08-10T08:44:22.359988Z"
    },
    "papermill": {
     "duration": 0.067321,
     "end_time": "2023-08-10T08:44:22.364011",
     "exception": false,
     "start_time": "2023-08-10T08:44:22.296690",
     "status": "completed"
    },
    "tags": []
   },
   "outputs": [],
   "source": [
    "df_all = pd.concat((df_train, df_test)).reset_index(drop=True)"
   ]
  },
  {
   "cell_type": "code",
   "execution_count": null,
   "id": "91868e08",
   "metadata": {
    "papermill": {
     "duration": 0.03978,
     "end_time": "2023-08-10T08:44:22.442992",
     "exception": false,
     "start_time": "2023-08-10T08:44:22.403212",
     "status": "completed"
    },
    "tags": []
   },
   "outputs": [],
   "source": []
  },
  {
   "cell_type": "code",
   "execution_count": 9,
   "id": "836743e0",
   "metadata": {
    "execution": {
     "iopub.execute_input": "2023-08-10T08:44:22.523671Z",
     "iopub.status.busy": "2023-08-10T08:44:22.522188Z",
     "iopub.status.idle": "2023-08-10T08:44:22.532177Z",
     "shell.execute_reply": "2023-08-10T08:44:22.531006Z"
    },
    "papermill": {
     "duration": 0.052665,
     "end_time": "2023-08-10T08:44:22.534868",
     "exception": false,
     "start_time": "2023-08-10T08:44:22.482203",
     "status": "completed"
    },
    "tags": []
   },
   "outputs": [],
   "source": [
    "#Drop features mention above\n",
    "df_all = df_all.drop(['Id','GarageYrBlt','GarageArea'], axis=1)\n",
    "#df_all = df_all.drop(['Id'], axis=1)\n",
    "\n",
    "#df_train = df_train.drop(['Id','GarageYrBlt','GarageArea'], axis=1)\n",
    "#df_test = df_test.drop(['Id','GarageYrBlt','GarageArea'], axis=1)\n"
   ]
  },
  {
   "cell_type": "markdown",
   "id": "dc00cf86",
   "metadata": {
    "papermill": {
     "duration": 0.038688,
     "end_time": "2023-08-10T08:44:22.612671",
     "exception": false,
     "start_time": "2023-08-10T08:44:22.573983",
     "status": "completed"
    },
    "tags": []
   },
   "source": [
    "## Missing Numbers"
   ]
  },
  {
   "cell_type": "markdown",
   "id": "a1131722",
   "metadata": {
    "papermill": {
     "duration": 0.03861,
     "end_time": "2023-08-10T08:44:22.690318",
     "exception": false,
     "start_time": "2023-08-10T08:44:22.651708",
     "status": "completed"
    },
    "tags": []
   },
   "source": [
    "Now, we have a closer look at the features and how they are distributed. Furthermore, we examine missing numbers and fill them in smartly using information from other features."
   ]
  },
  {
   "cell_type": "code",
   "execution_count": 10,
   "id": "9493308b",
   "metadata": {
    "execution": {
     "iopub.execute_input": "2023-08-10T08:44:22.770566Z",
     "iopub.status.busy": "2023-08-10T08:44:22.770079Z",
     "iopub.status.idle": "2023-08-10T08:44:22.828187Z",
     "shell.execute_reply": "2023-08-10T08:44:22.827193Z"
    },
    "papermill": {
     "duration": 0.101729,
     "end_time": "2023-08-10T08:44:22.830626",
     "exception": false,
     "start_time": "2023-08-10T08:44:22.728897",
     "status": "completed"
    },
    "tags": []
   },
   "outputs": [
    {
     "data": {
      "text/html": [
       "<div>\n",
       "<style scoped>\n",
       "    .dataframe tbody tr th:only-of-type {\n",
       "        vertical-align: middle;\n",
       "    }\n",
       "\n",
       "    .dataframe tbody tr th {\n",
       "        vertical-align: top;\n",
       "    }\n",
       "\n",
       "    .dataframe thead th {\n",
       "        text-align: right;\n",
       "    }\n",
       "</style>\n",
       "<table border=\"1\" class=\"dataframe\">\n",
       "  <thead>\n",
       "    <tr style=\"text-align: right;\">\n",
       "      <th></th>\n",
       "      <th>Missing Ratio</th>\n",
       "    </tr>\n",
       "  </thead>\n",
       "  <tbody>\n",
       "    <tr>\n",
       "      <th>PoolQC</th>\n",
       "      <td>0.996574</td>\n",
       "    </tr>\n",
       "    <tr>\n",
       "      <th>MiscFeature</th>\n",
       "      <td>0.964029</td>\n",
       "    </tr>\n",
       "    <tr>\n",
       "      <th>Alley</th>\n",
       "      <td>0.932169</td>\n",
       "    </tr>\n",
       "    <tr>\n",
       "      <th>Fence</th>\n",
       "      <td>0.804385</td>\n",
       "    </tr>\n",
       "    <tr>\n",
       "      <th>SalePrice</th>\n",
       "      <td>0.499829</td>\n",
       "    </tr>\n",
       "    <tr>\n",
       "      <th>FireplaceQu</th>\n",
       "      <td>0.486468</td>\n",
       "    </tr>\n",
       "    <tr>\n",
       "      <th>LotFrontage</th>\n",
       "      <td>0.166495</td>\n",
       "    </tr>\n",
       "    <tr>\n",
       "      <th>GarageCond</th>\n",
       "      <td>0.054471</td>\n",
       "    </tr>\n",
       "    <tr>\n",
       "      <th>GarageFinish</th>\n",
       "      <td>0.054471</td>\n",
       "    </tr>\n",
       "    <tr>\n",
       "      <th>GarageQual</th>\n",
       "      <td>0.054471</td>\n",
       "    </tr>\n",
       "    <tr>\n",
       "      <th>GarageType</th>\n",
       "      <td>0.053786</td>\n",
       "    </tr>\n",
       "    <tr>\n",
       "      <th>BsmtExposure</th>\n",
       "      <td>0.028092</td>\n",
       "    </tr>\n",
       "    <tr>\n",
       "      <th>BsmtCond</th>\n",
       "      <td>0.028092</td>\n",
       "    </tr>\n",
       "    <tr>\n",
       "      <th>BsmtQual</th>\n",
       "      <td>0.027749</td>\n",
       "    </tr>\n",
       "    <tr>\n",
       "      <th>BsmtFinType2</th>\n",
       "      <td>0.027407</td>\n",
       "    </tr>\n",
       "    <tr>\n",
       "      <th>BsmtFinType1</th>\n",
       "      <td>0.027064</td>\n",
       "    </tr>\n",
       "    <tr>\n",
       "      <th>MasVnrType</th>\n",
       "      <td>0.008222</td>\n",
       "    </tr>\n",
       "    <tr>\n",
       "      <th>MasVnrArea</th>\n",
       "      <td>0.007879</td>\n",
       "    </tr>\n",
       "    <tr>\n",
       "      <th>MSZoning</th>\n",
       "      <td>0.001370</td>\n",
       "    </tr>\n",
       "    <tr>\n",
       "      <th>BsmtHalfBath</th>\n",
       "      <td>0.000685</td>\n",
       "    </tr>\n",
       "  </tbody>\n",
       "</table>\n",
       "</div>"
      ],
      "text/plain": [
       "              Missing Ratio\n",
       "PoolQC             0.996574\n",
       "MiscFeature        0.964029\n",
       "Alley              0.932169\n",
       "Fence              0.804385\n",
       "SalePrice          0.499829\n",
       "FireplaceQu        0.486468\n",
       "LotFrontage        0.166495\n",
       "GarageCond         0.054471\n",
       "GarageFinish       0.054471\n",
       "GarageQual         0.054471\n",
       "GarageType         0.053786\n",
       "BsmtExposure       0.028092\n",
       "BsmtCond           0.028092\n",
       "BsmtQual           0.027749\n",
       "BsmtFinType2       0.027407\n",
       "BsmtFinType1       0.027064\n",
       "MasVnrType         0.008222\n",
       "MasVnrArea         0.007879\n",
       "MSZoning           0.001370\n",
       "BsmtHalfBath       0.000685"
      ]
     },
     "execution_count": 10,
     "metadata": {},
     "output_type": "execute_result"
    }
   ],
   "source": [
    "num_na = (df_all.isnull().sum() / len(df_all))\n",
    "num_na = num_na.drop(num_na[num_na == 0].index).sort_values(ascending=False)[:30]\n",
    "num_na = pd.DataFrame({'Missing Ratio' :num_na})\n",
    "num_na.head(20)"
   ]
  },
  {
   "cell_type": "markdown",
   "id": "101fce5b",
   "metadata": {
    "papermill": {
     "duration": 0.039559,
     "end_time": "2023-08-10T08:44:22.916523",
     "exception": false,
     "start_time": "2023-08-10T08:44:22.876964",
     "status": "completed"
    },
    "tags": []
   },
   "source": [
    "The above features miss data. There are a couple of features missing a lot of values. We need examine these further to see if data is missing or missing data equals zero. Such as PoolQC, Fence, Alley could be that NaN means non-applicable or zero. For the data missing only very little data it might be reasonable to just fill in the missing numbers."
   ]
  },
  {
   "cell_type": "markdown",
   "id": "2fcb818a",
   "metadata": {
    "papermill": {
     "duration": 0.038878,
     "end_time": "2023-08-10T08:44:22.994927",
     "exception": false,
     "start_time": "2023-08-10T08:44:22.956049",
     "status": "completed"
    },
    "tags": []
   },
   "source": [
    "We first plot all the features, then we go one-by-one dealing with the missing values"
   ]
  },
  {
   "cell_type": "code",
   "execution_count": 11,
   "id": "d3a177ea",
   "metadata": {
    "execution": {
     "iopub.execute_input": "2023-08-10T08:44:23.077293Z",
     "iopub.status.busy": "2023-08-10T08:44:23.076417Z",
     "iopub.status.idle": "2023-08-10T08:44:23.081842Z",
     "shell.execute_reply": "2023-08-10T08:44:23.080839Z"
    },
    "papermill": {
     "duration": 0.049748,
     "end_time": "2023-08-10T08:44:23.084312",
     "exception": false,
     "start_time": "2023-08-10T08:44:23.034564",
     "status": "completed"
    },
    "tags": []
   },
   "outputs": [],
   "source": [
    "#df_train.hist(figsize=(16, 20), bins=60, xlabelsize=8, ylabelsize=8);"
   ]
  },
  {
   "cell_type": "markdown",
   "id": "a2de0a2c",
   "metadata": {
    "papermill": {
     "duration": 0.038598,
     "end_time": "2023-08-10T08:44:23.162005",
     "exception": false,
     "start_time": "2023-08-10T08:44:23.123407",
     "status": "completed"
    },
    "tags": []
   },
   "source": [
    "### PoolQC"
   ]
  },
  {
   "cell_type": "markdown",
   "id": "6094fb3b",
   "metadata": {
    "papermill": {
     "duration": 0.038695,
     "end_time": "2023-08-10T08:44:23.239729",
     "exception": false,
     "start_time": "2023-08-10T08:44:23.201034",
     "status": "completed"
    },
    "tags": []
   },
   "source": [
    "There's a lot of additional information in the data description file. We will use this to fill in most of the missing features. Such as for PoolQC where NaN means no pool. For this example, we plot the barplots for PoolQC. We only do this where necessary in the following"
   ]
  },
  {
   "cell_type": "code",
   "execution_count": 12,
   "id": "8d87ab64",
   "metadata": {
    "execution": {
     "iopub.execute_input": "2023-08-10T08:44:23.322754Z",
     "iopub.status.busy": "2023-08-10T08:44:23.321974Z",
     "iopub.status.idle": "2023-08-10T08:44:23.326675Z",
     "shell.execute_reply": "2023-08-10T08:44:23.325527Z"
    },
    "papermill": {
     "duration": 0.049247,
     "end_time": "2023-08-10T08:44:23.329448",
     "exception": false,
     "start_time": "2023-08-10T08:44:23.280201",
     "status": "completed"
    },
    "tags": []
   },
   "outputs": [],
   "source": [
    "#df_test['PoolQC'].fillna('None').value_counts().plot(kind='bar')\n"
   ]
  },
  {
   "cell_type": "markdown",
   "id": "e72bed28",
   "metadata": {
    "papermill": {
     "duration": 0.039277,
     "end_time": "2023-08-10T08:44:23.411066",
     "exception": false,
     "start_time": "2023-08-10T08:44:23.371789",
     "status": "completed"
    },
    "tags": []
   },
   "source": [
    "Here we will fill in all the the places where NA means None, this includes:\n",
    "\n",
    "**PoolQC, MiscFeature, Alley, Fence, FireplaceQu, GarageType, GarageFinish, GarageQual, GarageCond, BsmtQual, BsmtCond, BsmtExposure, BsmtFinType1, BsmtFinType2, MasVnrType, MSSubClass**"
   ]
  },
  {
   "cell_type": "code",
   "execution_count": 13,
   "id": "0097ec96",
   "metadata": {
    "execution": {
     "iopub.execute_input": "2023-08-10T08:44:23.491974Z",
     "iopub.status.busy": "2023-08-10T08:44:23.491572Z",
     "iopub.status.idle": "2023-08-10T08:44:23.526820Z",
     "shell.execute_reply": "2023-08-10T08:44:23.525887Z"
    },
    "papermill": {
     "duration": 0.079279,
     "end_time": "2023-08-10T08:44:23.530463",
     "exception": false,
     "start_time": "2023-08-10T08:44:23.451184",
     "status": "completed"
    },
    "tags": []
   },
   "outputs": [],
   "source": [
    "for feature in [\"PoolQC\", \"MiscFeature\", \"Alley\", \"Fence\", \"FireplaceQu\", \"GarageType\",\n",
    "       \"GarageFinish\", \"GarageQual\", \"GarageCond\", \"BsmtQual\", \"BsmtCond\", \"BsmtExposure\",\n",
    "       \"BsmtFinType1\", \"BsmtFinType2\", 'MasVnrType', \"MSSubClass\"]:\n",
    "    df_all[feature]=df_all[feature].fillna(\"None\")"
   ]
  },
  {
   "cell_type": "markdown",
   "id": "855a1b46",
   "metadata": {
    "papermill": {
     "duration": 0.048465,
     "end_time": "2023-08-10T08:44:23.631839",
     "exception": false,
     "start_time": "2023-08-10T08:44:23.583374",
     "status": "completed"
    },
    "tags": []
   },
   "source": [
    "Similarly, there are feature where NA means 0, these include:\n",
    "\n",
    "**MasVnrArea , BsmtFinSF1, BsmtFinSF2, BsmtUnfSF, TotalBsmtSF, BsmtFullBath, BsmtHalfBath and GarageCars**\n"
   ]
  },
  {
   "cell_type": "code",
   "execution_count": 14,
   "id": "f979f8ec",
   "metadata": {
    "execution": {
     "iopub.execute_input": "2023-08-10T08:44:23.710748Z",
     "iopub.status.busy": "2023-08-10T08:44:23.709863Z",
     "iopub.status.idle": "2023-08-10T08:44:23.720144Z",
     "shell.execute_reply": "2023-08-10T08:44:23.718947Z"
    },
    "papermill": {
     "duration": 0.052446,
     "end_time": "2023-08-10T08:44:23.722505",
     "exception": false,
     "start_time": "2023-08-10T08:44:23.670059",
     "status": "completed"
    },
    "tags": []
   },
   "outputs": [],
   "source": [
    "for feature in [\"MasVnrArea\" , \"BsmtFinSF1\", \"BsmtFinSF2\", \"BsmtUnfSF\", \"TotalBsmtSF\", \n",
    "#                \"BsmtFullBath\", \"BsmtHalfBath\", \"GarageCars\", \"GarageYrBlt\", \"GarageArea\"]:\n",
    "                \"BsmtFullBath\", \"BsmtHalfBath\", \"GarageCars\"]:\n",
    "\n",
    "    df_all[feature]=df_all[feature].fillna(0)\n"
   ]
  },
  {
   "cell_type": "markdown",
   "id": "615580cb",
   "metadata": {
    "papermill": {
     "duration": 0.038268,
     "end_time": "2023-08-10T08:44:23.799934",
     "exception": false,
     "start_time": "2023-08-10T08:44:23.761666",
     "status": "completed"
    },
    "tags": []
   },
   "source": [
    "For the following features, we have to fill the missing values indeed represent missing values. Therefore, we fill them in with \"smart\"guesses. The general strategy will be using the median or mean from certain categories."
   ]
  },
  {
   "cell_type": "markdown",
   "id": "0b070e14",
   "metadata": {
    "papermill": {
     "duration": 0.037447,
     "end_time": "2023-08-10T08:44:23.875305",
     "exception": false,
     "start_time": "2023-08-10T08:44:23.837858",
     "status": "completed"
    },
    "tags": []
   },
   "source": [
    "**LotFrontage**: Houses in the same neighbourhood will most likely have a similar frontage. Therefore, we use the median LotFrontage in the neighborhood to fill in the missing values"
   ]
  },
  {
   "cell_type": "code",
   "execution_count": 15,
   "id": "b8056acd",
   "metadata": {
    "execution": {
     "iopub.execute_input": "2023-08-10T08:44:23.954062Z",
     "iopub.status.busy": "2023-08-10T08:44:23.953257Z",
     "iopub.status.idle": "2023-08-10T08:44:23.980119Z",
     "shell.execute_reply": "2023-08-10T08:44:23.978807Z"
    },
    "papermill": {
     "duration": 0.069818,
     "end_time": "2023-08-10T08:44:23.983011",
     "exception": false,
     "start_time": "2023-08-10T08:44:23.913193",
     "status": "completed"
    },
    "tags": []
   },
   "outputs": [],
   "source": [
    "df_all[\"LotFrontage\"] = df_all.groupby(\"Neighborhood\")[\"LotFrontage\"].transform(\n",
    "    lambda x: x.fillna(x.median()))"
   ]
  },
  {
   "cell_type": "markdown",
   "id": "4b4ebe4c",
   "metadata": {
    "papermill": {
     "duration": 0.039225,
     "end_time": "2023-08-10T08:44:24.062007",
     "exception": false,
     "start_time": "2023-08-10T08:44:24.022782",
     "status": "completed"
    },
    "tags": []
   },
   "source": [
    "**MSZoning**: This is the general zoning classification. We see that the majority of MSZoning are \"RL\". So, we fill in \"RL\" for the missing values/"
   ]
  },
  {
   "cell_type": "code",
   "execution_count": 16,
   "id": "8bb805b4",
   "metadata": {
    "execution": {
     "iopub.execute_input": "2023-08-10T08:44:24.144878Z",
     "iopub.status.busy": "2023-08-10T08:44:24.144175Z",
     "iopub.status.idle": "2023-08-10T08:44:24.492757Z",
     "shell.execute_reply": "2023-08-10T08:44:24.490949Z"
    },
    "papermill": {
     "duration": 0.392052,
     "end_time": "2023-08-10T08:44:24.495731",
     "exception": false,
     "start_time": "2023-08-10T08:44:24.103679",
     "status": "completed"
    },
    "tags": []
   },
   "outputs": [
    {
     "data": {
      "image/png": "[encoded data removed]",
      "text/plain": [
       "<Figure size 640x480 with 1 Axes>"
      ]
     },
     "metadata": {},
     "output_type": "display_data"
    }
   ],
   "source": [
    "df_all['MSZoning'].fillna('None').value_counts().plot(kind='bar')\n",
    "df_all[\"MSZoning\"] = df_all['MSZoning'].fillna(df_all['MSZoning'].mode()[0])"
   ]
  },
  {
   "cell_type": "markdown",
   "id": "8ec27fd4",
   "metadata": {
    "papermill": {
     "duration": 0.039053,
     "end_time": "2023-08-10T08:44:24.574585",
     "exception": false,
     "start_time": "2023-08-10T08:44:24.535532",
     "status": "completed"
    },
    "tags": []
   },
   "source": [
    "**Utilities**: Here, almost all the records are \"AllPub\". Furthermore, the \"NoSeWa\" only appears in the test set. Thus, there is no correlation for this feature and we can drop it"
   ]
  },
  {
   "cell_type": "code",
   "execution_count": 17,
   "id": "56cfdc68",
   "metadata": {
    "execution": {
     "iopub.execute_input": "2023-08-10T08:44:24.655401Z",
     "iopub.status.busy": "2023-08-10T08:44:24.654937Z",
     "iopub.status.idle": "2023-08-10T08:44:24.666650Z",
     "shell.execute_reply": "2023-08-10T08:44:24.665187Z"
    },
    "papermill": {
     "duration": 0.055431,
     "end_time": "2023-08-10T08:44:24.669449",
     "exception": false,
     "start_time": "2023-08-10T08:44:24.614018",
     "status": "completed"
    },
    "tags": []
   },
   "outputs": [
    {
     "data": {
      "text/plain": [
       "AllPub    2916\n",
       "None         2\n",
       "NoSeWa       1\n",
       "Name: Utilities, dtype: int64"
      ]
     },
     "execution_count": 17,
     "metadata": {},
     "output_type": "execute_result"
    }
   ],
   "source": [
    "df_all['Utilities'].fillna('None').value_counts()"
   ]
  },
  {
   "cell_type": "code",
   "execution_count": 18,
   "id": "7c8431c8",
   "metadata": {
    "execution": {
     "iopub.execute_input": "2023-08-10T08:44:24.752459Z",
     "iopub.status.busy": "2023-08-10T08:44:24.752018Z",
     "iopub.status.idle": "2023-08-10T08:44:24.760597Z",
     "shell.execute_reply": "2023-08-10T08:44:24.759737Z"
    },
    "papermill": {
     "duration": 0.053233,
     "end_time": "2023-08-10T08:44:24.763001",
     "exception": false,
     "start_time": "2023-08-10T08:44:24.709768",
     "status": "completed"
    },
    "tags": []
   },
   "outputs": [],
   "source": [
    "df_all = df_all.drop(['Utilities'], axis=1)"
   ]
  },
  {
   "cell_type": "markdown",
   "id": "4ce23410",
   "metadata": {
    "papermill": {
     "duration": 0.040509,
     "end_time": "2023-08-10T08:44:24.843816",
     "exception": false,
     "start_time": "2023-08-10T08:44:24.803307",
     "status": "completed"
    },
    "tags": []
   },
   "source": [
    "**Functional**: From the data description we get that NA means typical"
   ]
  },
  {
   "cell_type": "code",
   "execution_count": 19,
   "id": "e973a66d",
   "metadata": {
    "execution": {
     "iopub.execute_input": "2023-08-10T08:44:24.926803Z",
     "iopub.status.busy": "2023-08-10T08:44:24.926172Z",
     "iopub.status.idle": "2023-08-10T08:44:24.933429Z",
     "shell.execute_reply": "2023-08-10T08:44:24.932095Z"
    },
    "papermill": {
     "duration": 0.052511,
     "end_time": "2023-08-10T08:44:24.936454",
     "exception": false,
     "start_time": "2023-08-10T08:44:24.883943",
     "status": "completed"
    },
    "tags": []
   },
   "outputs": [],
   "source": [
    "df_all[\"Functional\"] = df_all[\"Functional\"].fillna(\"Typ\")"
   ]
  },
  {
   "cell_type": "markdown",
   "id": "6eac98f8",
   "metadata": {
    "papermill": {
     "duration": 0.041185,
     "end_time": "2023-08-10T08:44:25.017839",
     "exception": false,
     "start_time": "2023-08-10T08:44:24.976654",
     "status": "completed"
    },
    "tags": []
   },
   "source": [
    "**Electrical**: This feature only has a single NA value. Most of the values are \"SBrkr\", so we fill in with the median."
   ]
  },
  {
   "cell_type": "code",
   "execution_count": 20,
   "id": "2b5e0dd4",
   "metadata": {
    "execution": {
     "iopub.execute_input": "2023-08-10T08:44:25.099553Z",
     "iopub.status.busy": "2023-08-10T08:44:25.099059Z",
     "iopub.status.idle": "2023-08-10T08:44:25.110505Z",
     "shell.execute_reply": "2023-08-10T08:44:25.109063Z"
    },
    "papermill": {
     "duration": 0.055783,
     "end_time": "2023-08-10T08:44:25.113147",
     "exception": false,
     "start_time": "2023-08-10T08:44:25.057364",
     "status": "completed"
    },
    "tags": []
   },
   "outputs": [
    {
     "data": {
      "text/plain": [
       "SBrkr    2671\n",
       "FuseA     188\n",
       "FuseF      50\n",
       "FuseP       8\n",
       "Mix         1\n",
       "None        1\n",
       "Name: Electrical, dtype: int64"
      ]
     },
     "execution_count": 20,
     "metadata": {},
     "output_type": "execute_result"
    }
   ],
   "source": [
    "df_all['Electrical'].fillna('None').value_counts()"
   ]
  },
  {
   "cell_type": "code",
   "execution_count": 21,
   "id": "0b9c2554",
   "metadata": {
    "execution": {
     "iopub.execute_input": "2023-08-10T08:44:25.196215Z",
     "iopub.status.busy": "2023-08-10T08:44:25.195742Z",
     "iopub.status.idle": "2023-08-10T08:44:25.205046Z",
     "shell.execute_reply": "2023-08-10T08:44:25.203714Z"
    },
    "papermill": {
     "duration": 0.054047,
     "end_time": "2023-08-10T08:44:25.207592",
     "exception": false,
     "start_time": "2023-08-10T08:44:25.153545",
     "status": "completed"
    },
    "tags": []
   },
   "outputs": [],
   "source": [
    "df_all['Electrical'] = df_all['Electrical'].fillna(df_all['Electrical'].mode()[0])"
   ]
  },
  {
   "cell_type": "markdown",
   "id": "05b7ee3c",
   "metadata": {
    "papermill": {
     "duration": 0.039248,
     "end_time": "2023-08-10T08:44:25.287036",
     "exception": false,
     "start_time": "2023-08-10T08:44:25.247788",
     "status": "completed"
    },
    "tags": []
   },
   "source": [
    "For the remaining feature we follow the same procedure using the median. The remaining features are:\n",
    "**KitchenQual, Exterior1st, Exterior2nd, SaleType**"
   ]
  },
  {
   "cell_type": "code",
   "execution_count": 22,
   "id": "4cec8d27",
   "metadata": {
    "execution": {
     "iopub.execute_input": "2023-08-10T08:44:25.369873Z",
     "iopub.status.busy": "2023-08-10T08:44:25.368935Z",
     "iopub.status.idle": "2023-08-10T08:44:25.384615Z",
     "shell.execute_reply": "2023-08-10T08:44:25.383713Z"
    },
    "papermill": {
     "duration": 0.060578,
     "end_time": "2023-08-10T08:44:25.387303",
     "exception": false,
     "start_time": "2023-08-10T08:44:25.326725",
     "status": "completed"
    },
    "tags": []
   },
   "outputs": [],
   "source": [
    "for features in [\"KitchenQual\", \"Exterior1st\", \"Exterior2nd\", \"SaleType\"]:\n",
    "    df_all[features] = df_all[features].fillna(df_all[features].mode()[0])"
   ]
  },
  {
   "cell_type": "markdown",
   "id": "7d6f501b",
   "metadata": {
    "papermill": {
     "duration": 0.040322,
     "end_time": "2023-08-10T08:44:25.467094",
     "exception": false,
     "start_time": "2023-08-10T08:44:25.426772",
     "status": "completed"
    },
    "tags": []
   },
   "source": [
    "Do a final check if we got rid of all the NA's"
   ]
  },
  {
   "cell_type": "code",
   "execution_count": 23,
   "id": "2f079e97",
   "metadata": {
    "execution": {
     "iopub.execute_input": "2023-08-10T08:44:25.548746Z",
     "iopub.status.busy": "2023-08-10T08:44:25.548254Z",
     "iopub.status.idle": "2023-08-10T08:44:25.603829Z",
     "shell.execute_reply": "2023-08-10T08:44:25.602544Z"
    },
    "papermill": {
     "duration": 0.100262,
     "end_time": "2023-08-10T08:44:25.606692",
     "exception": false,
     "start_time": "2023-08-10T08:44:25.506430",
     "status": "completed"
    },
    "tags": []
   },
   "outputs": [
    {
     "data": {
      "text/plain": [
       "False"
      ]
     },
     "execution_count": 23,
     "metadata": {},
     "output_type": "execute_result"
    }
   ],
   "source": [
    "# We drop SalePrice for the test because it contains NAs for df_test\n",
    "# If true, we can check for which feature has NAs using\n",
    "#df_all.drop(['SalePrice'], axis=1).isnull().any()\n",
    "\n",
    "df_all.drop(['SalePrice'], axis=1).isnull().values.any()\n"
   ]
  },
  {
   "cell_type": "code",
   "execution_count": 24,
   "id": "fba2b504",
   "metadata": {
    "execution": {
     "iopub.execute_input": "2023-08-10T08:44:25.689852Z",
     "iopub.status.busy": "2023-08-10T08:44:25.689332Z",
     "iopub.status.idle": "2023-08-10T08:44:25.697227Z",
     "shell.execute_reply": "2023-08-10T08:44:25.696057Z"
    },
    "papermill": {
     "duration": 0.051977,
     "end_time": "2023-08-10T08:44:25.699605",
     "exception": false,
     "start_time": "2023-08-10T08:44:25.647628",
     "status": "completed"
    },
    "tags": []
   },
   "outputs": [],
   "source": [
    "#Add new feature\n",
    "df_all['TotalSF'] = df_all['TotalBsmtSF'] + df_all['1stFlrSF'] + df_all['2ndFlrSF']"
   ]
  },
  {
   "cell_type": "code",
   "execution_count": 25,
   "id": "a129bfa8",
   "metadata": {
    "execution": {
     "iopub.execute_input": "2023-08-10T08:44:25.780364Z",
     "iopub.status.busy": "2023-08-10T08:44:25.779945Z",
     "iopub.status.idle": "2023-08-10T08:44:25.798914Z",
     "shell.execute_reply": "2023-08-10T08:44:25.797531Z"
    },
    "papermill": {
     "duration": 0.063403,
     "end_time": "2023-08-10T08:44:25.801671",
     "exception": false,
     "start_time": "2023-08-10T08:44:25.738268",
     "status": "completed"
    },
    "tags": []
   },
   "outputs": [],
   "source": [
    "#MSSubClass=The building class\n",
    "df_all['MSSubClass'] = df_all['MSSubClass'].apply(str)\n",
    "\n",
    "\n",
    "#Changing OverallCond into a categorical variable\n",
    "df_all['OverallCond'] = df_all['OverallCond'].astype(str)\n",
    "\n",
    "\n",
    "#Year and month sold are transformed into categorical features.\n",
    "df_all['YrSold'] = df_all['YrSold'].astype(str)\n",
    "df_all['MoSold'] = df_all['MoSold'].astype(str)"
   ]
  },
  {
   "cell_type": "code",
   "execution_count": 26,
   "id": "c518409c",
   "metadata": {
    "execution": {
     "iopub.execute_input": "2023-08-10T08:44:25.882403Z",
     "iopub.status.busy": "2023-08-10T08:44:25.881906Z",
     "iopub.status.idle": "2023-08-10T08:44:26.209838Z",
     "shell.execute_reply": "2023-08-10T08:44:26.208531Z"
    },
    "papermill": {
     "duration": 0.371677,
     "end_time": "2023-08-10T08:44:26.212583",
     "exception": false,
     "start_time": "2023-08-10T08:44:25.840906",
     "status": "completed"
    },
    "tags": []
   },
   "outputs": [
    {
     "name": "stdout",
     "output_type": "stream",
     "text": [
      "Shape all_data: (2919, 78)\n"
     ]
    }
   ],
   "source": [
    "from sklearn.preprocessing import LabelEncoder\n",
    "cols = ('FireplaceQu', 'BsmtQual', 'BsmtCond', 'GarageQual', 'GarageCond', \n",
    "        'ExterQual', 'ExterCond','HeatingQC', 'PoolQC', 'KitchenQual', 'BsmtFinType1', \n",
    "        'BsmtFinType2', 'Functional', 'Fence', 'BsmtExposure', 'GarageFinish', 'LandSlope',\n",
    "        'LotShape', 'PavedDrive', 'Street', 'Alley', 'CentralAir', 'MSSubClass', 'OverallCond', \n",
    "        'YrSold', 'MoSold')\n",
    "# process columns, apply LabelEncoder to categorical features\n",
    "for c in cols:\n",
    "    lbl = LabelEncoder() \n",
    "    lbl.fit(list(df_all[c].values)) \n",
    "    df_all[c] = lbl.transform(list(df_all[c].values))\n",
    "\n",
    "# shape        \n",
    "print('Shape all_data: {}'.format(df_all.shape))"
   ]
  },
  {
   "cell_type": "markdown",
   "id": "5ed27294",
   "metadata": {
    "papermill": {
     "duration": 0.039608,
     "end_time": "2023-08-10T08:44:26.291446",
     "exception": false,
     "start_time": "2023-08-10T08:44:26.251838",
     "status": "completed"
    },
    "tags": []
   },
   "source": [
    "## Outliers"
   ]
  },
  {
   "cell_type": "markdown",
   "id": "2206187d",
   "metadata": {
    "papermill": {
     "duration": 0.038632,
     "end_time": "2023-08-10T08:44:26.369219",
     "exception": false,
     "start_time": "2023-08-10T08:44:26.330587",
     "status": "completed"
    },
    "tags": []
   },
   "source": [
    "Once we are done with this, we can work the data. The plan is to apply several light regression models and see how they perform. Then, we try more powerful tools, i.e., tensorflow. We compare the values to the regression results. Finally, we use stacked ensemble regression. This should perform better than the light regression models and should be computational less expensive than the tensorflow application."
   ]
  },
  {
   "cell_type": "code",
   "execution_count": 27,
   "id": "8ed04cd0",
   "metadata": {
    "execution": {
     "iopub.execute_input": "2023-08-10T08:44:26.449312Z",
     "iopub.status.busy": "2023-08-10T08:44:26.448925Z",
     "iopub.status.idle": "2023-08-10T08:44:26.457452Z",
     "shell.execute_reply": "2023-08-10T08:44:26.454695Z"
    },
    "papermill": {
     "duration": 0.052326,
     "end_time": "2023-08-10T08:44:26.460243",
     "exception": false,
     "start_time": "2023-08-10T08:44:26.407917",
     "status": "completed"
    },
    "tags": []
   },
   "outputs": [],
   "source": [
    "# Get updated df_train and df_test\n",
    "ntrain = df_train.shape[0]\n",
    "\n",
    "df_train = df_all[:ntrain]\n",
    "df_test = df_all[ntrain:]"
   ]
  },
  {
   "cell_type": "code",
   "execution_count": 28,
   "id": "b97d2cb0",
   "metadata": {
    "execution": {
     "iopub.execute_input": "2023-08-10T08:44:26.541566Z",
     "iopub.status.busy": "2023-08-10T08:44:26.541113Z",
     "iopub.status.idle": "2023-08-10T08:44:26.546179Z",
     "shell.execute_reply": "2023-08-10T08:44:26.544940Z"
    },
    "papermill": {
     "duration": 0.048875,
     "end_time": "2023-08-10T08:44:26.548422",
     "exception": false,
     "start_time": "2023-08-10T08:44:26.499547",
     "status": "completed"
    },
    "tags": []
   },
   "outputs": [],
   "source": [
    "features_list = list(df_train)"
   ]
  },
  {
   "cell_type": "code",
   "execution_count": 29,
   "id": "9e5667b0",
   "metadata": {
    "execution": {
     "iopub.execute_input": "2023-08-10T08:44:26.631281Z",
     "iopub.status.busy": "2023-08-10T08:44:26.630275Z",
     "iopub.status.idle": "2023-08-10T08:44:26.637849Z",
     "shell.execute_reply": "2023-08-10T08:44:26.636943Z"
    },
    "papermill": {
     "duration": 0.051541,
     "end_time": "2023-08-10T08:44:26.639953",
     "exception": false,
     "start_time": "2023-08-10T08:44:26.588412",
     "status": "completed"
    },
    "tags": []
   },
   "outputs": [
    {
     "data": {
      "text/plain": [
       "78"
      ]
     },
     "execution_count": 29,
     "metadata": {},
     "output_type": "execute_result"
    }
   ],
   "source": [
    "len(features_list)"
   ]
  },
  {
   "cell_type": "code",
   "execution_count": 30,
   "id": "6803fcd0",
   "metadata": {
    "execution": {
     "iopub.execute_input": "2023-08-10T08:44:26.722130Z",
     "iopub.status.busy": "2023-08-10T08:44:26.721766Z",
     "iopub.status.idle": "2023-08-10T08:44:27.449446Z",
     "shell.execute_reply": "2023-08-10T08:44:27.448266Z"
    },
    "papermill": {
     "duration": 0.772626,
     "end_time": "2023-08-10T08:44:27.452436",
     "exception": false,
     "start_time": "2023-08-10T08:44:26.679810",
     "status": "completed"
    },
    "tags": []
   },
   "outputs": [
    {
     "data": {
      "image/png": "[encoded data removed]",
      "text/plain": [
       "<Figure size 640x480 with 2 Axes>"
      ]
     },
     "metadata": {},
     "output_type": "display_data"
    }
   ],
   "source": [
    "#scatter plot grlivarea/saleprice\n",
    "fig, axes = plt.subplots(2,1)\n",
    "# Check that we got rid of them\n",
    "i=0\n",
    "for var in ['GrLivArea','TotalBsmtSF']:\n",
    "    data = pd.concat([df_train['SalePrice'], df_train[var]], axis=1)\n",
    "    data.plot.scatter(x=var, y='SalePrice', ylim=(0,800000),ax=axes[i]);\n",
    "    i+=1"
   ]
  },
  {
   "cell_type": "markdown",
   "id": "f02a654f",
   "metadata": {
    "papermill": {
     "duration": 0.04828,
     "end_time": "2023-08-10T08:44:27.543277",
     "exception": false,
     "start_time": "2023-08-10T08:44:27.494997",
     "status": "completed"
    },
    "tags": []
   },
   "source": [
    "We have identified two extreme outliers which have very large area but low price. Those are probably farm lands or other properties. We remove them. There are further outliers present in other features, but they are not as extreme. There is also a chance that we have outliers in our test data. So we should try to make our prediction models robust against these outliers."
   ]
  },
  {
   "cell_type": "code",
   "execution_count": 31,
   "id": "ff5c75b9",
   "metadata": {
    "execution": {
     "iopub.execute_input": "2023-08-10T08:44:27.630195Z",
     "iopub.status.busy": "2023-08-10T08:44:27.629010Z",
     "iopub.status.idle": "2023-08-10T08:44:28.332667Z",
     "shell.execute_reply": "2023-08-10T08:44:28.331007Z"
    },
    "papermill": {
     "duration": 0.749427,
     "end_time": "2023-08-10T08:44:28.335569",
     "exception": false,
     "start_time": "2023-08-10T08:44:27.586142",
     "status": "completed"
    },
    "tags": []
   },
   "outputs": [
    {
     "data": {
      "image/png": "[encoded data removed]",
      "text/plain": [
       "<Figure size 640x480 with 2 Axes>"
      ]
     },
     "metadata": {},
     "output_type": "display_data"
    }
   ],
   "source": [
    "# Remove outliers\n",
    "df_train = df_train.drop(df_train[(df_train['GrLivArea']>4000) & (df_train['SalePrice']<200000)].index)\n",
    "\n",
    "fig, axes = plt.subplots(2,1)\n",
    "# Check that we got rid of them\n",
    "i=0\n",
    "for var in ['GrLivArea','TotalBsmtSF']:\n",
    "    data = pd.concat([df_train['SalePrice'], df_train[var]], axis=1)\n",
    "    data.plot.scatter(x=var, y='SalePrice', ylim=(0,800000),ax=axes[i]);\n",
    "    i+=1"
   ]
  },
  {
   "cell_type": "markdown",
   "id": "9caf56a6",
   "metadata": {
    "papermill": {
     "duration": 0.042291,
     "end_time": "2023-08-10T08:44:28.421263",
     "exception": false,
     "start_time": "2023-08-10T08:44:28.378972",
     "status": "completed"
    },
    "tags": []
   },
   "source": [
    "## Skewness"
   ]
  },
  {
   "cell_type": "code",
   "execution_count": 32,
   "id": "f648cac1",
   "metadata": {
    "execution": {
     "iopub.execute_input": "2023-08-10T08:44:28.512343Z",
     "iopub.status.busy": "2023-08-10T08:44:28.511281Z",
     "iopub.status.idle": "2023-08-10T08:44:28.517940Z",
     "shell.execute_reply": "2023-08-10T08:44:28.516397Z"
    },
    "papermill": {
     "duration": 0.055861,
     "end_time": "2023-08-10T08:44:28.520529",
     "exception": false,
     "start_time": "2023-08-10T08:44:28.464668",
     "status": "completed"
    },
    "tags": []
   },
   "outputs": [],
   "source": [
    "\n",
    "from scipy import stats\n",
    "from scipy.stats import norm, skew #for some statistics"
   ]
  },
  {
   "cell_type": "code",
   "execution_count": 33,
   "id": "d7a7f8b0",
   "metadata": {
    "execution": {
     "iopub.execute_input": "2023-08-10T08:44:28.609094Z",
     "iopub.status.busy": "2023-08-10T08:44:28.608711Z",
     "iopub.status.idle": "2023-08-10T08:44:29.702387Z",
     "shell.execute_reply": "2023-08-10T08:44:29.701106Z"
    },
    "papermill": {
     "duration": 1.140987,
     "end_time": "2023-08-10T08:44:29.705348",
     "exception": false,
     "start_time": "2023-08-10T08:44:28.564361",
     "status": "completed"
    },
    "tags": []
   },
   "outputs": [
    {
     "name": "stderr",
     "output_type": "stream",
     "text": [
      "/tmp/ipykernel_20/190528656.py:1: UserWarning: \n",
      "\n",
      "`distplot` is a deprecated function and will be removed in seaborn v0.14.0.\n",
      "\n",
      "Please adapt your code to use either `displot` (a figure-level function with\n",
      "similar flexibility) or `histplot` (an axes-level function for histograms).\n",
      "\n",
      "For a guide to updating your code to use the new functions, please see\n",
      "https://gist.github.com/mwaskom/de44147ed2974457ad6372750bbe5751\n",
      "\n",
      "  sns.distplot(df_train['SalePrice'] )\n"
     ]
    },
    {
     "data": {
      "image/png": "[encoded data removed]",
      "text/plain": [
       "<Figure size 640x480 with 1 Axes>"
      ]
     },
     "metadata": {},
     "output_type": "display_data"
    },
    {
     "data": {
      "image/png": "[encoded data removed]",
      "text/plain": [
       "<Figure size 640x480 with 1 Axes>"
      ]
     },
     "metadata": {},
     "output_type": "display_data"
    }
   ],
   "source": [
    "sns.distplot(df_train['SalePrice'] )\n",
    "#Get also the QQ-plot\n",
    "fig = plt.figure()\n",
    "res = stats.probplot(df_train['SalePrice'], plot=plt)\n",
    "plt.show()"
   ]
  },
  {
   "cell_type": "code",
   "execution_count": 34,
   "id": "3f6965a7",
   "metadata": {
    "execution": {
     "iopub.execute_input": "2023-08-10T08:44:29.794817Z",
     "iopub.status.busy": "2023-08-10T08:44:29.793697Z",
     "iopub.status.idle": "2023-08-10T08:44:30.911950Z",
     "shell.execute_reply": "2023-08-10T08:44:30.910819Z"
    },
    "papermill": {
     "duration": 1.16643,
     "end_time": "2023-08-10T08:44:30.914495",
     "exception": false,
     "start_time": "2023-08-10T08:44:29.748065",
     "status": "completed"
    },
    "tags": []
   },
   "outputs": [
    {
     "name": "stderr",
     "output_type": "stream",
     "text": [
      "/tmp/ipykernel_20/4129601835.py:5: UserWarning: \n",
      "\n",
      "`distplot` is a deprecated function and will be removed in seaborn v0.14.0.\n",
      "\n",
      "Please adapt your code to use either `displot` (a figure-level function with\n",
      "similar flexibility) or `histplot` (an axes-level function for histograms).\n",
      "\n",
      "For a guide to updating your code to use the new functions, please see\n",
      "https://gist.github.com/mwaskom/de44147ed2974457ad6372750bbe5751\n",
      "\n",
      "  sns.distplot(df_train['SalePrice'] , fit=norm);\n"
     ]
    },
    {
     "name": "stdout",
     "output_type": "stream",
     "text": [
      "\n",
      " mu = 12.02 and sigma = 0.40\n",
      "\n"
     ]
    },
    {
     "data": {
      "image/png": "[encoded data removed]",
      "text/plain": [
       "<Figure size 640x480 with 1 Axes>"
      ]
     },
     "metadata": {},
     "output_type": "display_data"
    },
    {
     "data": {
      "image/png": "[encoded data removed]",
      "text/plain": [
       "<Figure size 640x480 with 1 Axes>"
      ]
     },
     "metadata": {},
     "output_type": "display_data"
    }
   ],
   "source": [
    "#We use the numpy fuction log1p which  applies log(1+x) to all elements of the column\n",
    "df_train[\"SalePrice\"] = np.log(1+df_train[\"SalePrice\"])\n",
    "\n",
    "#Check the new distribution \n",
    "sns.distplot(df_train['SalePrice'] , fit=norm);\n",
    "\n",
    "# Get the fitted parameters used by the function\n",
    "(mu, sigma) = norm.fit(df_train['SalePrice'])\n",
    "print( '\\n mu = {:.2f} and sigma = {:.2f}\\n'.format(mu, sigma))\n",
    "\n",
    "#Now plot the distribution\n",
    "plt.legend(['Normal dist. ($\\mu=$ {:.2f} and $\\sigma=$ {:.2f} )'.format(mu, sigma)],\n",
    "            loc='best')\n",
    "plt.ylabel('Frequency')\n",
    "plt.title('SalePrice distribution')\n",
    "\n",
    "#Get also the QQ-plot\n",
    "fig = plt.figure()\n",
    "res = stats.probplot(df_train['SalePrice'], plot=plt)\n",
    "plt.show()"
   ]
  },
  {
   "cell_type": "code",
   "execution_count": 35,
   "id": "330dc43f",
   "metadata": {
    "execution": {
     "iopub.execute_input": "2023-08-10T08:44:31.010168Z",
     "iopub.status.busy": "2023-08-10T08:44:31.009730Z",
     "iopub.status.idle": "2023-08-10T08:44:31.034862Z",
     "shell.execute_reply": "2023-08-10T08:44:31.033714Z"
    },
    "papermill": {
     "duration": 0.077476,
     "end_time": "2023-08-10T08:44:31.037818",
     "exception": false,
     "start_time": "2023-08-10T08:44:30.960342",
     "status": "completed"
    },
    "tags": []
   },
   "outputs": [],
   "source": [
    "df_all = pd.concat((df_train, df_test)).reset_index(drop=True)"
   ]
  },
  {
   "cell_type": "code",
   "execution_count": 36,
   "id": "ee40953e",
   "metadata": {
    "execution": {
     "iopub.execute_input": "2023-08-10T08:44:31.131213Z",
     "iopub.status.busy": "2023-08-10T08:44:31.130785Z",
     "iopub.status.idle": "2023-08-10T08:44:31.168640Z",
     "shell.execute_reply": "2023-08-10T08:44:31.167538Z"
    },
    "papermill": {
     "duration": 0.087638,
     "end_time": "2023-08-10T08:44:31.171088",
     "exception": false,
     "start_time": "2023-08-10T08:44:31.083450",
     "status": "completed"
    },
    "tags": []
   },
   "outputs": [
    {
     "name": "stdout",
     "output_type": "stream",
     "text": [
      "\n",
      "Skew in numerical features: \n",
      "\n"
     ]
    },
    {
     "data": {
      "text/html": [
       "<div>\n",
       "<style scoped>\n",
       "    .dataframe tbody tr th:only-of-type {\n",
       "        vertical-align: middle;\n",
       "    }\n",
       "\n",
       "    .dataframe tbody tr th {\n",
       "        vertical-align: top;\n",
       "    }\n",
       "\n",
       "    .dataframe thead th {\n",
       "        text-align: right;\n",
       "    }\n",
       "</style>\n",
       "<table border=\"1\" class=\"dataframe\">\n",
       "  <thead>\n",
       "    <tr style=\"text-align: right;\">\n",
       "      <th></th>\n",
       "      <th>Skew</th>\n",
       "    </tr>\n",
       "  </thead>\n",
       "  <tbody>\n",
       "    <tr>\n",
       "      <th>MiscVal</th>\n",
       "      <td>21.939672</td>\n",
       "    </tr>\n",
       "    <tr>\n",
       "      <th>PoolArea</th>\n",
       "      <td>17.688664</td>\n",
       "    </tr>\n",
       "    <tr>\n",
       "      <th>LotArea</th>\n",
       "      <td>13.109495</td>\n",
       "    </tr>\n",
       "    <tr>\n",
       "      <th>LowQualFinSF</th>\n",
       "      <td>12.084539</td>\n",
       "    </tr>\n",
       "    <tr>\n",
       "      <th>3SsnPorch</th>\n",
       "      <td>11.372080</td>\n",
       "    </tr>\n",
       "    <tr>\n",
       "      <th>LandSlope</th>\n",
       "      <td>4.973254</td>\n",
       "    </tr>\n",
       "    <tr>\n",
       "      <th>KitchenAbvGr</th>\n",
       "      <td>4.300550</td>\n",
       "    </tr>\n",
       "    <tr>\n",
       "      <th>BsmtFinSF2</th>\n",
       "      <td>4.144503</td>\n",
       "    </tr>\n",
       "    <tr>\n",
       "      <th>EnclosedPorch</th>\n",
       "      <td>4.002344</td>\n",
       "    </tr>\n",
       "    <tr>\n",
       "      <th>ScreenPorch</th>\n",
       "      <td>3.945101</td>\n",
       "    </tr>\n",
       "  </tbody>\n",
       "</table>\n",
       "</div>"
      ],
      "text/plain": [
       "                    Skew\n",
       "MiscVal        21.939672\n",
       "PoolArea       17.688664\n",
       "LotArea        13.109495\n",
       "LowQualFinSF   12.084539\n",
       "3SsnPorch      11.372080\n",
       "LandSlope       4.973254\n",
       "KitchenAbvGr    4.300550\n",
       "BsmtFinSF2      4.144503\n",
       "EnclosedPorch   4.002344\n",
       "ScreenPorch     3.945101"
      ]
     },
     "execution_count": 36,
     "metadata": {},
     "output_type": "execute_result"
    }
   ],
   "source": [
    "numeric_feats = df_all.dtypes[df_all.dtypes != \"object\"].index\n",
    "\n",
    "# Check the skew of all numerical features\n",
    "skewed_feats = df_all[numeric_feats].apply(lambda x: skew(x.dropna())).sort_values(ascending=False)\n",
    "print(\"\\nSkew in numerical features: \\n\")\n",
    "skewness = pd.DataFrame({'Skew' :skewed_feats})\n",
    "skewness.head(10)"
   ]
  },
  {
   "cell_type": "code",
   "execution_count": 37,
   "id": "6320a843",
   "metadata": {
    "execution": {
     "iopub.execute_input": "2023-08-10T08:44:31.266799Z",
     "iopub.status.busy": "2023-08-10T08:44:31.266102Z",
     "iopub.status.idle": "2023-08-10T08:44:31.306382Z",
     "shell.execute_reply": "2023-08-10T08:44:31.304723Z"
    },
    "papermill": {
     "duration": 0.09178,
     "end_time": "2023-08-10T08:44:31.309580",
     "exception": false,
     "start_time": "2023-08-10T08:44:31.217800",
     "status": "completed"
    },
    "tags": []
   },
   "outputs": [
    {
     "name": "stdout",
     "output_type": "stream",
     "text": [
      "There are 58 skewed numerical features to Box Cox transform\n"
     ]
    }
   ],
   "source": [
    "skewness = skewness[abs(skewness) > 0.75]\n",
    "print(\"There are {} skewed numerical features to Box Cox transform\".format(skewness.shape[0]))\n",
    "\n",
    "from scipy.special import boxcox1p\n",
    "skewed_features = skewness.index\n",
    "lam = 0.15\n",
    "for feat in skewed_features:\n",
    "    if feat=='SalePrice':\n",
    "        continue\n",
    "    #all_data[feat] += 1\n",
    "    df_all[feat] = boxcox1p(df_all[feat], lam)\n",
    "    \n",
    "#all_data[skewed_features] = np.log1p(all_data[skewed_features])"
   ]
  },
  {
   "cell_type": "code",
   "execution_count": 38,
   "id": "64a2efb7",
   "metadata": {
    "execution": {
     "iopub.execute_input": "2023-08-10T08:44:31.406074Z",
     "iopub.status.busy": "2023-08-10T08:44:31.404453Z",
     "iopub.status.idle": "2023-08-10T08:44:31.448050Z",
     "shell.execute_reply": "2023-08-10T08:44:31.446761Z"
    },
    "papermill": {
     "duration": 0.094413,
     "end_time": "2023-08-10T08:44:31.450919",
     "exception": false,
     "start_time": "2023-08-10T08:44:31.356506",
     "status": "completed"
    },
    "tags": []
   },
   "outputs": [
    {
     "name": "stdout",
     "output_type": "stream",
     "text": [
      "(2917, 219)\n"
     ]
    }
   ],
   "source": [
    "df_all = pd.get_dummies(df_all, dtype='int32')\n",
    "print(df_all.shape)"
   ]
  },
  {
   "cell_type": "code",
   "execution_count": 39,
   "id": "22f979f5",
   "metadata": {
    "execution": {
     "iopub.execute_input": "2023-08-10T08:44:31.548180Z",
     "iopub.status.busy": "2023-08-10T08:44:31.546976Z",
     "iopub.status.idle": "2023-08-10T08:44:31.556966Z",
     "shell.execute_reply": "2023-08-10T08:44:31.555469Z"
    },
    "papermill": {
     "duration": 0.060565,
     "end_time": "2023-08-10T08:44:31.559355",
     "exception": false,
     "start_time": "2023-08-10T08:44:31.498790",
     "status": "completed"
    },
    "tags": []
   },
   "outputs": [],
   "source": [
    "train = df_all[:ntrain-2].drop([\"SalePrice\"],axis=1)\n",
    "y_train = df_all[:ntrain-2].SalePrice.values\n",
    "test = df_all[ntrain-2:]"
   ]
  },
  {
   "cell_type": "markdown",
   "id": "886e2483",
   "metadata": {
    "papermill": {
     "duration": 0.04401,
     "end_time": "2023-08-10T08:44:31.647851",
     "exception": false,
     "start_time": "2023-08-10T08:44:31.603841",
     "status": "completed"
    },
    "tags": []
   },
   "source": [
    "# Modelling"
   ]
  },
  {
   "cell_type": "code",
   "execution_count": 40,
   "id": "3b573576",
   "metadata": {
    "execution": {
     "iopub.execute_input": "2023-08-10T08:44:31.739344Z",
     "iopub.status.busy": "2023-08-10T08:44:31.738961Z",
     "iopub.status.idle": "2023-08-10T08:44:33.697176Z",
     "shell.execute_reply": "2023-08-10T08:44:33.695893Z"
    },
    "papermill": {
     "duration": 2.008258,
     "end_time": "2023-08-10T08:44:33.700522",
     "exception": false,
     "start_time": "2023-08-10T08:44:31.692264",
     "status": "completed"
    },
    "tags": []
   },
   "outputs": [],
   "source": [
    "from sklearn.linear_model import ElasticNet, Lasso,  BayesianRidge, LassoLarsIC, LinearRegression\n",
    "from sklearn.ensemble import RandomForestRegressor,  GradientBoostingRegressor\n",
    "from sklearn.kernel_ridge import KernelRidge\n",
    "from sklearn.pipeline import make_pipeline\n",
    "from sklearn.preprocessing import RobustScaler\n",
    "from sklearn.base import BaseEstimator, TransformerMixin, RegressorMixin, clone\n",
    "from sklearn.model_selection import KFold, cross_val_score, train_test_split\n",
    "from sklearn.metrics import mean_squared_error\n",
    "import xgboost as xgb\n",
    "import lightgbm as lgb\n",
    "\n",
    "import warnings\n",
    "def ignore_warn(*args, **kwargs):\n",
    "    pass\n",
    "warnings.warn = ignore_warn #ignore annoying warning (from sklearn and seaborn)"
   ]
  },
  {
   "cell_type": "code",
   "execution_count": 41,
   "id": "e3305e0d",
   "metadata": {
    "execution": {
     "iopub.execute_input": "2023-08-10T08:44:33.798211Z",
     "iopub.status.busy": "2023-08-10T08:44:33.797753Z",
     "iopub.status.idle": "2023-08-10T08:44:33.804593Z",
     "shell.execute_reply": "2023-08-10T08:44:33.803204Z"
    },
    "papermill": {
     "duration": 0.060073,
     "end_time": "2023-08-10T08:44:33.807197",
     "exception": false,
     "start_time": "2023-08-10T08:44:33.747124",
     "status": "completed"
    },
    "tags": []
   },
   "outputs": [],
   "source": [
    "#Validation function\n",
    "n_folds = 5\n",
    "\n",
    "def rmsle_cv(model):\n",
    "    kf = KFold(n_folds, shuffle=True, random_state=42).get_n_splits(df_train.values)\n",
    "    rmse= np.sqrt(-cross_val_score(model, train.values, y_train, scoring=\"neg_mean_squared_error\", cv = kf))\n",
    "    return(rmse)"
   ]
  },
  {
   "cell_type": "code",
   "execution_count": 42,
   "id": "b618a1aa",
   "metadata": {
    "execution": {
     "iopub.execute_input": "2023-08-10T08:44:33.902145Z",
     "iopub.status.busy": "2023-08-10T08:44:33.901687Z",
     "iopub.status.idle": "2023-08-10T08:44:34.280617Z",
     "shell.execute_reply": "2023-08-10T08:44:34.279330Z"
    },
    "papermill": {
     "duration": 0.430709,
     "end_time": "2023-08-10T08:44:34.284296",
     "exception": false,
     "start_time": "2023-08-10T08:44:33.853587",
     "status": "completed"
    },
    "tags": []
   },
   "outputs": [
    {
     "name": "stdout",
     "output_type": "stream",
     "text": [
      "\n",
      "Linear Regression score: 196933205.0783 (265297399.5469)\n",
      "\n"
     ]
    }
   ],
   "source": [
    "# Naive try of a simple linear regression\n",
    "regr = LinearRegression()\n",
    "score = rmsle_cv(regr)\n",
    "print(\"\\nLinear Regression score: {:.4f} ({:.4f})\\n\".format(score.mean(), score.std()))"
   ]
  },
  {
   "cell_type": "code",
   "execution_count": 43,
   "id": "6b08513c",
   "metadata": {
    "execution": {
     "iopub.execute_input": "2023-08-10T08:44:34.455441Z",
     "iopub.status.busy": "2023-08-10T08:44:34.454980Z",
     "iopub.status.idle": "2023-08-10T08:44:35.480553Z",
     "shell.execute_reply": "2023-08-10T08:44:35.479355Z"
    },
    "papermill": {
     "duration": 1.079202,
     "end_time": "2023-08-10T08:44:35.484580",
     "exception": false,
     "start_time": "2023-08-10T08:44:34.405378",
     "status": "completed"
    },
    "tags": []
   },
   "outputs": [
    {
     "name": "stdout",
     "output_type": "stream",
     "text": [
      "\n",
      "Lasso score: 0.1116 (0.0072)\n",
      "\n"
     ]
    }
   ],
   "source": [
    "# Linear regression was absolutely terrible. Let's try some more advanced regression tools\n",
    "lasso = make_pipeline(RobustScaler(), Lasso(alpha =0.0005, random_state=1))\n",
    "score = rmsle_cv(lasso)\n",
    "print(\"\\nLasso score: {:.4f} ({:.4f})\\n\".format(score.mean(), score.std()))"
   ]
  },
  {
   "cell_type": "code",
   "execution_count": 44,
   "id": "2ed0a97a",
   "metadata": {
    "execution": {
     "iopub.execute_input": "2023-08-10T08:44:35.663807Z",
     "iopub.status.busy": "2023-08-10T08:44:35.663120Z",
     "iopub.status.idle": "2023-08-10T08:44:36.648949Z",
     "shell.execute_reply": "2023-08-10T08:44:36.647785Z"
    },
    "papermill": {
     "duration": 1.04151,
     "end_time": "2023-08-10T08:44:36.656698",
     "exception": false,
     "start_time": "2023-08-10T08:44:35.615188",
     "status": "completed"
    },
    "tags": []
   },
   "outputs": [
    {
     "name": "stdout",
     "output_type": "stream",
     "text": [
      "\n",
      "ENet score: 0.1116 (0.0073)\n",
      "\n"
     ]
    }
   ],
   "source": [
    "ENet = make_pipeline(RobustScaler(), ElasticNet(alpha=0.0005, l1_ratio=.9, random_state=3))\n",
    "score = rmsle_cv(ENet)\n",
    "print(\"\\nENet score: {:.4f} ({:.4f})\\n\".format(score.mean(), score.std()))"
   ]
  },
  {
   "cell_type": "code",
   "execution_count": 45,
   "id": "f875cf77",
   "metadata": {
    "execution": {
     "iopub.execute_input": "2023-08-10T08:44:36.835473Z",
     "iopub.status.busy": "2023-08-10T08:44:36.834955Z",
     "iopub.status.idle": "2023-08-10T08:44:37.616552Z",
     "shell.execute_reply": "2023-08-10T08:44:37.615335Z"
    },
    "papermill": {
     "duration": 0.835941,
     "end_time": "2023-08-10T08:44:37.620296",
     "exception": false,
     "start_time": "2023-08-10T08:44:36.784355",
     "status": "completed"
    },
    "tags": []
   },
   "outputs": [
    {
     "name": "stdout",
     "output_type": "stream",
     "text": [
      "\n",
      "KRR score: 0.1153 (0.0080)\n",
      "\n"
     ]
    }
   ],
   "source": [
    "KRR = KernelRidge(alpha=0.6, kernel='polynomial', degree=2, coef0=2.5)\n",
    "score = rmsle_cv(KRR)\n",
    "print(\"\\nKRR score: {:.4f} ({:.4f})\\n\".format(score.mean(), score.std()))"
   ]
  },
  {
   "cell_type": "code",
   "execution_count": 46,
   "id": "629c6172",
   "metadata": {
    "execution": {
     "iopub.execute_input": "2023-08-10T08:44:37.793385Z",
     "iopub.status.busy": "2023-08-10T08:44:37.792907Z",
     "iopub.status.idle": "2023-08-10T08:45:59.544103Z",
     "shell.execute_reply": "2023-08-10T08:45:59.542883Z"
    },
    "papermill": {
     "duration": 81.847272,
     "end_time": "2023-08-10T08:45:59.591283",
     "exception": false,
     "start_time": "2023-08-10T08:44:37.744011",
     "status": "completed"
    },
    "tags": []
   },
   "outputs": [
    {
     "name": "stdout",
     "output_type": "stream",
     "text": [
      "\n",
      "GBoost score: 0.1159 (0.0071)\n",
      "\n"
     ]
    }
   ],
   "source": [
    "# loss='huber' makes it more robuts to our outliers\n",
    "# Note that running this Model takes significantly longer\n",
    "GBoost = GradientBoostingRegressor(n_estimators=3000, learning_rate=0.05,\n",
    "                                   max_depth=4, max_features='sqrt',\n",
    "                                   min_samples_leaf=15, min_samples_split=10, \n",
    "                                   loss='huber', random_state =5)\n",
    "score = rmsle_cv(GBoost)\n",
    "print(\"\\nGBoost score: {:.4f} ({:.4f})\\n\".format(score.mean(), score.std()))"
   ]
  },
  {
   "cell_type": "code",
   "execution_count": 47,
   "id": "3abb4e67",
   "metadata": {
    "execution": {
     "iopub.execute_input": "2023-08-10T08:45:59.684232Z",
     "iopub.status.busy": "2023-08-10T08:45:59.683748Z",
     "iopub.status.idle": "2023-08-10T08:46:26.416510Z",
     "shell.execute_reply": "2023-08-10T08:46:26.415561Z"
    },
    "papermill": {
     "duration": 26.783945,
     "end_time": "2023-08-10T08:46:26.420413",
     "exception": false,
     "start_time": "2023-08-10T08:45:59.636468",
     "status": "completed"
    },
    "tags": []
   },
   "outputs": [
    {
     "name": "stdout",
     "output_type": "stream",
     "text": [
      "[08:45:59] WARNING: ../src/learner.cc:767: \n",
      "Parameters: { \"silent\" } are not used.\n",
      "\n",
      "[08:46:04] WARNING: ../src/learner.cc:767: \n",
      "Parameters: { \"silent\" } are not used.\n",
      "\n",
      "[08:46:10] WARNING: ../src/learner.cc:767: \n",
      "Parameters: { \"silent\" } are not used.\n",
      "\n",
      "[08:46:16] WARNING: ../src/learner.cc:767: \n",
      "Parameters: { \"silent\" } are not used.\n",
      "\n",
      "[08:46:21] WARNING: ../src/learner.cc:767: \n",
      "Parameters: { \"silent\" } are not used.\n",
      "\n",
      "\n",
      "model_xgb score: 0.1169 (0.0056)\n",
      "\n"
     ]
    }
   ],
   "source": [
    "model_xgb = xgb.XGBRegressor(colsample_bytree=0.4603, gamma=0.0468, \n",
    "                             learning_rate=0.05, max_depth=3, \n",
    "                             min_child_weight=1.7817, n_estimators=2200,\n",
    "                             reg_alpha=0.4640, reg_lambda=0.8571,\n",
    "                             subsample=0.5213, silent=1,\n",
    "                             random_state =7, nthread = -1)\n",
    "score = rmsle_cv(model_xgb)\n",
    "print(\"\\nmodel_xgb score: {:.4f} ({:.4f})\\n\".format(score.mean(), score.std()))"
   ]
  },
  {
   "cell_type": "code",
   "execution_count": 48,
   "id": "d94e127d",
   "metadata": {
    "execution": {
     "iopub.execute_input": "2023-08-10T08:46:26.520341Z",
     "iopub.status.busy": "2023-08-10T08:46:26.519909Z",
     "iopub.status.idle": "2023-08-10T08:46:34.482032Z",
     "shell.execute_reply": "2023-08-10T08:46:34.480634Z"
    },
    "papermill": {
     "duration": 8.015095,
     "end_time": "2023-08-10T08:46:34.484609",
     "exception": false,
     "start_time": "2023-08-10T08:46:26.469514",
     "status": "completed"
    },
    "tags": []
   },
   "outputs": [
    {
     "name": "stdout",
     "output_type": "stream",
     "text": [
      "[LightGBM] [Warning] feature_fraction is set=0.2319, colsample_bytree=1.0 will be ignored. Current value: feature_fraction=0.2319\n",
      "[LightGBM] [Warning] min_sum_hessian_in_leaf is set=11, min_child_weight=0.001 will be ignored. Current value: min_sum_hessian_in_leaf=11\n",
      "[LightGBM] [Warning] min_data_in_leaf is set=6, min_child_samples=20 will be ignored. Current value: min_data_in_leaf=6\n",
      "[LightGBM] [Warning] bagging_freq is set=5, subsample_freq=0 will be ignored. Current value: bagging_freq=5\n",
      "[LightGBM] [Warning] bagging_fraction is set=0.8, subsample=1.0 will be ignored. Current value: bagging_fraction=0.8\n",
      "[LightGBM] [Warning] feature_fraction is set=0.2319, colsample_bytree=1.0 will be ignored. Current value: feature_fraction=0.2319\n",
      "[LightGBM] [Warning] min_sum_hessian_in_leaf is set=11, min_child_weight=0.001 will be ignored. Current value: min_sum_hessian_in_leaf=11\n",
      "[LightGBM] [Warning] min_data_in_leaf is set=6, min_child_samples=20 will be ignored. Current value: min_data_in_leaf=6\n",
      "[LightGBM] [Warning] bagging_freq is set=5, subsample_freq=0 will be ignored. Current value: bagging_freq=5\n",
      "[LightGBM] [Warning] bagging_fraction is set=0.8, subsample=1.0 will be ignored. Current value: bagging_fraction=0.8\n",
      "[LightGBM] [Warning] feature_fraction is set=0.2319, colsample_bytree=1.0 will be ignored. Current value: feature_fraction=0.2319\n",
      "[LightGBM] [Warning] min_sum_hessian_in_leaf is set=11, min_child_weight=0.001 will be ignored. Current value: min_sum_hessian_in_leaf=11\n",
      "[LightGBM] [Warning] min_data_in_leaf is set=6, min_child_samples=20 will be ignored. Current value: min_data_in_leaf=6\n",
      "[LightGBM] [Warning] bagging_freq is set=5, subsample_freq=0 will be ignored. Current value: bagging_freq=5\n",
      "[LightGBM] [Warning] bagging_fraction is set=0.8, subsample=1.0 will be ignored. Current value: bagging_fraction=0.8\n",
      "[LightGBM] [Warning] feature_fraction is set=0.2319, colsample_bytree=1.0 will be ignored. Current value: feature_fraction=0.2319\n",
      "[LightGBM] [Warning] min_sum_hessian_in_leaf is set=11, min_child_weight=0.001 will be ignored. Current value: min_sum_hessian_in_leaf=11\n",
      "[LightGBM] [Warning] min_data_in_leaf is set=6, min_child_samples=20 will be ignored. Current value: min_data_in_leaf=6\n",
      "[LightGBM] [Warning] bagging_freq is set=5, subsample_freq=0 will be ignored. Current value: bagging_freq=5\n",
      "[LightGBM] [Warning] bagging_fraction is set=0.8, subsample=1.0 will be ignored. Current value: bagging_fraction=0.8\n",
      "[LightGBM] [Warning] feature_fraction is set=0.2319, colsample_bytree=1.0 will be ignored. Current value: feature_fraction=0.2319\n",
      "[LightGBM] [Warning] min_sum_hessian_in_leaf is set=11, min_child_weight=0.001 will be ignored. Current value: min_sum_hessian_in_leaf=11\n",
      "[LightGBM] [Warning] min_data_in_leaf is set=6, min_child_samples=20 will be ignored. Current value: min_data_in_leaf=6\n",
      "[LightGBM] [Warning] bagging_freq is set=5, subsample_freq=0 will be ignored. Current value: bagging_freq=5\n",
      "[LightGBM] [Warning] bagging_fraction is set=0.8, subsample=1.0 will be ignored. Current value: bagging_fraction=0.8\n",
      "\n",
      "model_lgb score: 0.1146 (0.0063)\n",
      "\n"
     ]
    }
   ],
   "source": [
    "model_lgb = lgb.LGBMRegressor(objective='regression',num_leaves=5,\n",
    "                              learning_rate=0.05, n_estimators=720,\n",
    "                              max_bin = 55, bagging_fraction = 0.8,\n",
    "                              bagging_freq = 5, feature_fraction = 0.2319,\n",
    "                              feature_fraction_seed=9, bagging_seed=9,\n",
    "                              min_data_in_leaf =6, min_sum_hessian_in_leaf = 11)\n",
    "score = rmsle_cv(model_lgb)\n",
    "print(\"\\nmodel_lgb score: {:.4f} ({:.4f})\\n\".format(score.mean(), score.std()))"
   ]
  },
  {
   "cell_type": "markdown",
   "id": "f992e564",
   "metadata": {
    "papermill": {
     "duration": 0.046829,
     "end_time": "2023-08-10T08:46:34.579415",
     "exception": false,
     "start_time": "2023-08-10T08:46:34.532586",
     "status": "completed"
    },
    "tags": []
   },
   "source": [
    "The different models have approximately the same predictive power. Let's use the power of ensemble predictions and stacking to improve them. We start of with a simple approach where we simple average over several models."
   ]
  },
  {
   "cell_type": "code",
   "execution_count": 49,
   "id": "f63395d7",
   "metadata": {
    "execution": {
     "iopub.execute_input": "2023-08-10T08:46:34.676140Z",
     "iopub.status.busy": "2023-08-10T08:46:34.675646Z",
     "iopub.status.idle": "2023-08-10T08:46:34.684221Z",
     "shell.execute_reply": "2023-08-10T08:46:34.683288Z"
    },
    "papermill": {
     "duration": 0.059501,
     "end_time": "2023-08-10T08:46:34.686358",
     "exception": false,
     "start_time": "2023-08-10T08:46:34.626857",
     "status": "completed"
    },
    "tags": []
   },
   "outputs": [],
   "source": [
    "class AveragingModels(BaseEstimator, RegressorMixin, TransformerMixin):\n",
    "    def __init__(self, models):\n",
    "        self.models = models\n",
    "        \n",
    "    # we define clones of the original models to fit the data in\n",
    "    def fit(self, X, y):\n",
    "        self.models_ = [clone(x) for x in self.models]\n",
    "        \n",
    "        # Train cloned base models\n",
    "        for model in self.models_:\n",
    "            model.fit(X, y)\n",
    "\n",
    "        return self\n",
    "    \n",
    "    #Now we do the predictions for cloned models and average them\n",
    "    def predict(self, X):\n",
    "        predictions = np.column_stack([\n",
    "            model.predict(X) for model in self.models_\n",
    "        ])\n",
    "        return np.mean(predictions, axis=1)   "
   ]
  },
  {
   "cell_type": "markdown",
   "id": "31c05bcb",
   "metadata": {
    "papermill": {
     "duration": 0.046302,
     "end_time": "2023-08-10T08:46:34.778889",
     "exception": false,
     "start_time": "2023-08-10T08:46:34.732587",
     "status": "completed"
    },
    "tags": []
   },
   "source": [
    "Let's start by averaging the 3 fast models"
   ]
  },
  {
   "cell_type": "code",
   "execution_count": 50,
   "id": "d87c409d",
   "metadata": {
    "execution": {
     "iopub.execute_input": "2023-08-10T08:46:34.875798Z",
     "iopub.status.busy": "2023-08-10T08:46:34.874450Z",
     "iopub.status.idle": "2023-08-10T08:46:37.491479Z",
     "shell.execute_reply": "2023-08-10T08:46:37.489934Z"
    },
    "papermill": {
     "duration": 2.670444,
     "end_time": "2023-08-10T08:46:37.495594",
     "exception": false,
     "start_time": "2023-08-10T08:46:34.825150",
     "status": "completed"
    },
    "tags": []
   },
   "outputs": [
    {
     "name": "stdout",
     "output_type": "stream",
     "text": [
      " Averaged base models score: 0.1112 (0.0075)\n",
      "\n"
     ]
    }
   ],
   "source": [
    "averaged_models = AveragingModels(models = (ENet, KRR, lasso))\n",
    "\n",
    "score = rmsle_cv(averaged_models)\n",
    "print(\" Averaged base models score: {:.4f} ({:.4f})\\n\".format(score.mean(), score.std()))"
   ]
  },
  {
   "cell_type": "markdown",
   "id": "c717de74",
   "metadata": {
    "papermill": {
     "duration": 0.046467,
     "end_time": "2023-08-10T08:46:37.662759",
     "exception": false,
     "start_time": "2023-08-10T08:46:37.616292",
     "status": "completed"
    },
    "tags": []
   },
   "source": [
    "The improvement is small around 1 std, let's include all models. This might take a couple of minutes, since the evaluation of the gradient boost models takes longer"
   ]
  },
  {
   "cell_type": "code",
   "execution_count": 51,
   "id": "22b63b8f",
   "metadata": {
    "execution": {
     "iopub.execute_input": "2023-08-10T08:46:37.757265Z",
     "iopub.status.busy": "2023-08-10T08:46:37.756843Z",
     "iopub.status.idle": "2023-08-10T08:48:02.282021Z",
     "shell.execute_reply": "2023-08-10T08:48:02.280832Z"
    },
    "papermill": {
     "duration": 84.658378,
     "end_time": "2023-08-10T08:48:02.367326",
     "exception": false,
     "start_time": "2023-08-10T08:46:37.708948",
     "status": "completed"
    },
    "tags": []
   },
   "outputs": [
    {
     "name": "stdout",
     "output_type": "stream",
     "text": [
      " Averaged base models score: 0.1087 (0.0072)\n",
      "\n"
     ]
    }
   ],
   "source": [
    "averaged_models = AveragingModels(models = (ENet, KRR, lasso, GBoost))\n",
    "\n",
    "score = rmsle_cv(averaged_models)\n",
    "print(\" Averaged base models score: {:.4f} ({:.4f})\\n\".format(score.mean(), score.std()))"
   ]
  },
  {
   "cell_type": "markdown",
   "id": "b6ab193b",
   "metadata": {
    "papermill": {
     "duration": 0.047536,
     "end_time": "2023-08-10T08:48:02.462676",
     "exception": false,
     "start_time": "2023-08-10T08:48:02.415140",
     "status": "completed"
    },
    "tags": []
   },
   "source": [
    "We went down around half an std. So overall, from combining simply averaging the models, we went down by around 1.5 std. \n",
    "\n",
    "Let's add in a meta model that improves the averaging. In other words, we are weighting how much every model contributes to the final prediction."
   ]
  },
  {
   "cell_type": "code",
   "execution_count": 52,
   "id": "b6ca64eb",
   "metadata": {
    "execution": {
     "iopub.execute_input": "2023-08-10T08:48:02.561960Z",
     "iopub.status.busy": "2023-08-10T08:48:02.561460Z",
     "iopub.status.idle": "2023-08-10T08:48:02.575967Z",
     "shell.execute_reply": "2023-08-10T08:48:02.574343Z"
    },
    "papermill": {
     "duration": 0.067958,
     "end_time": "2023-08-10T08:48:02.578804",
     "exception": false,
     "start_time": "2023-08-10T08:48:02.510846",
     "status": "completed"
    },
    "tags": []
   },
   "outputs": [],
   "source": [
    "class StackingAveragedModels(BaseEstimator, RegressorMixin, TransformerMixin):\n",
    "    def __init__(self, base_models, meta_model, n_folds=5):\n",
    "        self.base_models = base_models\n",
    "        self.meta_model = meta_model\n",
    "        self.n_folds = n_folds\n",
    "   \n",
    "    # We again fit the data on clones of the original models\n",
    "    def fit(self, X, y):\n",
    "        self.base_models_ = [list() for x in self.base_models]\n",
    "        self.meta_model_ = clone(self.meta_model)\n",
    "        kfold = KFold(n_splits=self.n_folds, shuffle=True, random_state=156)\n",
    "        \n",
    "        # Train cloned base models then create out-of-fold predictions\n",
    "        # that are needed to train the cloned meta-model\n",
    "        out_of_fold_predictions = np.zeros((X.shape[0], len(self.base_models)))\n",
    "        for i, model in enumerate(self.base_models):\n",
    "            for train_index, holdout_index in kfold.split(X, y):\n",
    "                instance = clone(model)\n",
    "                self.base_models_[i].append(instance)\n",
    "                instance.fit(X[train_index], y[train_index])\n",
    "                y_pred = instance.predict(X[holdout_index])\n",
    "                out_of_fold_predictions[holdout_index, i] = y_pred\n",
    "                \n",
    "        # Now train the cloned  meta-model using the out-of-fold predictions as new feature\n",
    "        self.meta_model_.fit(out_of_fold_predictions, y)\n",
    "        return self\n",
    "   \n",
    "    #Do the predictions of all base models on the test data and use the averaged predictions as \n",
    "    #meta-features for the final prediction which is done by the meta-model\n",
    "    def predict(self, X):\n",
    "        meta_features = np.column_stack([\n",
    "            np.column_stack([model.predict(X) for model in base_models]).mean(axis=1)\n",
    "            for base_models in self.base_models_ ])\n",
    "        return self.meta_model_.predict(meta_features)"
   ]
  },
  {
   "cell_type": "code",
   "execution_count": 53,
   "id": "45f2dfe1",
   "metadata": {
    "execution": {
     "iopub.execute_input": "2023-08-10T08:48:02.678374Z",
     "iopub.status.busy": "2023-08-10T08:48:02.677894Z",
     "iopub.status.idle": "2023-08-10T08:54:31.986165Z",
     "shell.execute_reply": "2023-08-10T08:54:31.984354Z"
    },
    "papermill": {
     "duration": 389.511098,
     "end_time": "2023-08-10T08:54:32.138418",
     "exception": false,
     "start_time": "2023-08-10T08:48:02.627320",
     "status": "completed"
    },
    "tags": []
   },
   "outputs": [
    {
     "name": "stdout",
     "output_type": "stream",
     "text": [
      "Stacking Averaged models score: 0.1084 (0.0069)\n"
     ]
    }
   ],
   "source": [
    "stacked_averaged_models = StackingAveragedModels(base_models = (lasso, ENet, KRR,GBoost),\n",
    "                                                 meta_model = lasso)\n",
    "\n",
    "score = rmsle_cv(stacked_averaged_models)\n",
    "print(\"Stacking Averaged models score: {:.4f} ({:.4f})\".format(score.mean(), score.std()))"
   ]
  },
  {
   "cell_type": "markdown",
   "id": "57094c84",
   "metadata": {
    "papermill": {
     "duration": 0.050227,
     "end_time": "2023-08-10T08:54:32.239390",
     "exception": false,
     "start_time": "2023-08-10T08:54:32.189163",
     "status": "completed"
    },
    "tags": []
   },
   "source": [
    "Well, this did not really help much, but okay. Not really worth the additional runtime."
   ]
  },
  {
   "cell_type": "code",
   "execution_count": 54,
   "id": "7390555a",
   "metadata": {
    "execution": {
     "iopub.execute_input": "2023-08-10T08:54:32.339531Z",
     "iopub.status.busy": "2023-08-10T08:54:32.338638Z",
     "iopub.status.idle": "2023-08-10T08:54:32.344621Z",
     "shell.execute_reply": "2023-08-10T08:54:32.343586Z"
    },
    "papermill": {
     "duration": 0.059542,
     "end_time": "2023-08-10T08:54:32.347327",
     "exception": false,
     "start_time": "2023-08-10T08:54:32.287785",
     "status": "completed"
    },
    "tags": []
   },
   "outputs": [],
   "source": [
    "def rmsle(y, y_pred):\n",
    "    return np.sqrt(mean_squared_error(y, y_pred))"
   ]
  },
  {
   "cell_type": "code",
   "execution_count": 55,
   "id": "657054d0",
   "metadata": {
    "execution": {
     "iopub.execute_input": "2023-08-10T08:54:32.447838Z",
     "iopub.status.busy": "2023-08-10T08:54:32.446946Z",
     "iopub.status.idle": "2023-08-10T08:54:32.455551Z",
     "shell.execute_reply": "2023-08-10T08:54:32.454525Z"
    },
    "papermill": {
     "duration": 0.061987,
     "end_time": "2023-08-10T08:54:32.458284",
     "exception": false,
     "start_time": "2023-08-10T08:54:32.396297",
     "status": "completed"
    },
    "tags": []
   },
   "outputs": [],
   "source": [
    "test=test.drop(['SalePrice'],axis=1)"
   ]
  },
  {
   "cell_type": "code",
   "execution_count": 56,
   "id": "3414cbe8",
   "metadata": {
    "execution": {
     "iopub.execute_input": "2023-08-10T08:54:32.559676Z",
     "iopub.status.busy": "2023-08-10T08:54:32.558738Z",
     "iopub.status.idle": "2023-08-10T08:55:57.944695Z",
     "shell.execute_reply": "2023-08-10T08:55:57.943308Z"
    },
    "papermill": {
     "duration": 85.487598,
     "end_time": "2023-08-10T08:55:57.994885",
     "exception": false,
     "start_time": "2023-08-10T08:54:32.507287",
     "status": "completed"
    },
    "tags": []
   },
   "outputs": [
    {
     "name": "stdout",
     "output_type": "stream",
     "text": [
      "0.08047771983893078\n"
     ]
    }
   ],
   "source": [
    "stacked_averaged_models.fit(train.values, y_train)\n",
    "stacked_train_pred = stacked_averaged_models.predict(train.values)\n",
    "stacked_pred = np.expm1(stacked_averaged_models.predict(test.values))\n",
    "print(rmsle(y_train, stacked_train_pred))"
   ]
  },
  {
   "cell_type": "code",
   "execution_count": 57,
   "id": "32b8227d",
   "metadata": {
    "execution": {
     "iopub.execute_input": "2023-08-10T08:55:58.092933Z",
     "iopub.status.busy": "2023-08-10T08:55:58.092520Z",
     "iopub.status.idle": "2023-08-10T08:56:16.492585Z",
     "shell.execute_reply": "2023-08-10T08:56:16.491006Z"
    },
    "papermill": {
     "duration": 18.453169,
     "end_time": "2023-08-10T08:56:16.495697",
     "exception": false,
     "start_time": "2023-08-10T08:55:58.042528",
     "status": "completed"
    },
    "tags": []
   },
   "outputs": [
    {
     "name": "stdout",
     "output_type": "stream",
     "text": [
      "[08:55:58] WARNING: ../src/learner.cc:767: \n",
      "Parameters: { \"silent\" } are not used.\n",
      "\n",
      "0.0795905967179058\n"
     ]
    }
   ],
   "source": [
    "model_xgb.fit(train, y_train)\n",
    "xgb_train_pred = model_xgb.predict(train)\n",
    "xgb_pred = np.expm1(model_xgb.predict(test))\n",
    "print(rmsle(y_train, xgb_train_pred))"
   ]
  },
  {
   "cell_type": "code",
   "execution_count": 58,
   "id": "d96d06c3",
   "metadata": {
    "execution": {
     "iopub.execute_input": "2023-08-10T08:56:16.599996Z",
     "iopub.status.busy": "2023-08-10T08:56:16.599215Z",
     "iopub.status.idle": "2023-08-10T08:56:18.220835Z",
     "shell.execute_reply": "2023-08-10T08:56:18.219176Z"
    },
    "papermill": {
     "duration": 1.676302,
     "end_time": "2023-08-10T08:56:18.223692",
     "exception": false,
     "start_time": "2023-08-10T08:56:16.547390",
     "status": "completed"
    },
    "tags": []
   },
   "outputs": [
    {
     "name": "stdout",
     "output_type": "stream",
     "text": [
      "[LightGBM] [Warning] feature_fraction is set=0.2319, colsample_bytree=1.0 will be ignored. Current value: feature_fraction=0.2319\n",
      "[LightGBM] [Warning] min_sum_hessian_in_leaf is set=11, min_child_weight=0.001 will be ignored. Current value: min_sum_hessian_in_leaf=11\n",
      "[LightGBM] [Warning] min_data_in_leaf is set=6, min_child_samples=20 will be ignored. Current value: min_data_in_leaf=6\n",
      "[LightGBM] [Warning] bagging_freq is set=5, subsample_freq=0 will be ignored. Current value: bagging_freq=5\n",
      "[LightGBM] [Warning] bagging_fraction is set=0.8, subsample=1.0 will be ignored. Current value: bagging_fraction=0.8\n",
      "0.0728094402359063\n"
     ]
    }
   ],
   "source": [
    "model_lgb.fit(train, y_train)\n",
    "lgb_train_pred = model_lgb.predict(train)\n",
    "lgb_pred = np.expm1(model_lgb.predict(test.values))\n",
    "print(rmsle(y_train, lgb_train_pred))"
   ]
  },
  {
   "cell_type": "code",
   "execution_count": 59,
   "id": "5c9ffccb",
   "metadata": {
    "execution": {
     "iopub.execute_input": "2023-08-10T08:56:18.325150Z",
     "iopub.status.busy": "2023-08-10T08:56:18.324753Z",
     "iopub.status.idle": "2023-08-10T08:56:18.330856Z",
     "shell.execute_reply": "2023-08-10T08:56:18.329391Z"
    },
    "papermill": {
     "duration": 0.060601,
     "end_time": "2023-08-10T08:56:18.333310",
     "exception": false,
     "start_time": "2023-08-10T08:56:18.272709",
     "status": "completed"
    },
    "tags": []
   },
   "outputs": [],
   "source": [
    "ensemble = stacked_pred*0.60 + xgb_pred*0.2 + lgb_pred*0.2"
   ]
  },
  {
   "cell_type": "code",
   "execution_count": 60,
   "id": "5da8ef81",
   "metadata": {
    "execution": {
     "iopub.execute_input": "2023-08-10T08:56:18.431976Z",
     "iopub.status.busy": "2023-08-10T08:56:18.431553Z",
     "iopub.status.idle": "2023-08-10T08:56:18.482399Z",
     "shell.execute_reply": "2023-08-10T08:56:18.481011Z"
    },
    "papermill": {
     "duration": 0.104453,
     "end_time": "2023-08-10T08:56:18.486327",
     "exception": false,
     "start_time": "2023-08-10T08:56:18.381874",
     "status": "completed"
    },
    "tags": []
   },
   "outputs": [],
   "source": [
    "# Get back the IDs that we dropped earlier for \n",
    "ids = pd.read_csv('/kaggle/input/house-prices-advanced-regression-techniques/test.csv')[\"Id\"]\n",
    "\n",
    "sub = pd.DataFrame()\n",
    "sub['Id'] = ids[:]\n",
    "sub['SalePrice'] = ensemble\n",
    "sub.to_csv('submission.csv',index=False)"
   ]
  },
  {
   "cell_type": "code",
   "execution_count": 61,
   "id": "597b1d80",
   "metadata": {
    "execution": {
     "iopub.execute_input": "2023-08-10T08:56:18.587272Z",
     "iopub.status.busy": "2023-08-10T08:56:18.586866Z",
     "iopub.status.idle": "2023-08-10T08:56:18.596576Z",
     "shell.execute_reply": "2023-08-10T08:56:18.595712Z"
    },
    "papermill": {
     "duration": 0.063181,
     "end_time": "2023-08-10T08:56:18.599073",
     "exception": false,
     "start_time": "2023-08-10T08:56:18.535892",
     "status": "completed"
    },
    "tags": []
   },
   "outputs": [
    {
     "data": {
      "text/html": [
       "<div>\n",
       "<style scoped>\n",
       "    .dataframe tbody tr th:only-of-type {\n",
       "        vertical-align: middle;\n",
       "    }\n",
       "\n",
       "    .dataframe tbody tr th {\n",
       "        vertical-align: top;\n",
       "    }\n",
       "\n",
       "    .dataframe thead th {\n",
       "        text-align: right;\n",
       "    }\n",
       "</style>\n",
       "<table border=\"1\" class=\"dataframe\">\n",
       "  <thead>\n",
       "    <tr style=\"text-align: right;\">\n",
       "      <th></th>\n",
       "      <th>Id</th>\n",
       "      <th>SalePrice</th>\n",
       "    </tr>\n",
       "  </thead>\n",
       "  <tbody>\n",
       "    <tr>\n",
       "      <th>1454</th>\n",
       "      <td>2915</td>\n",
       "      <td>83004.993729</td>\n",
       "    </tr>\n",
       "    <tr>\n",
       "      <th>1455</th>\n",
       "      <td>2916</td>\n",
       "      <td>81775.214886</td>\n",
       "    </tr>\n",
       "    <tr>\n",
       "      <th>1456</th>\n",
       "      <td>2917</td>\n",
       "      <td>165070.287711</td>\n",
       "    </tr>\n",
       "    <tr>\n",
       "      <th>1457</th>\n",
       "      <td>2918</td>\n",
       "      <td>117259.406374</td>\n",
       "    </tr>\n",
       "    <tr>\n",
       "      <th>1458</th>\n",
       "      <td>2919</td>\n",
       "      <td>225128.474301</td>\n",
       "    </tr>\n",
       "  </tbody>\n",
       "</table>\n",
       "</div>"
      ],
      "text/plain": [
       "        Id      SalePrice\n",
       "1454  2915   83004.993729\n",
       "1455  2916   81775.214886\n",
       "1456  2917  165070.287711\n",
       "1457  2918  117259.406374\n",
       "1458  2919  225128.474301"
      ]
     },
     "execution_count": 61,
     "metadata": {},
     "output_type": "execute_result"
    }
   ],
   "source": [
    "sub.tail()"
   ]
  },
  {
   "cell_type": "markdown",
   "id": "0652f6af",
   "metadata": {
    "papermill": {
     "duration": 0.049733,
     "end_time": "2023-08-10T08:56:18.701900",
     "exception": false,
     "start_time": "2023-08-10T08:56:18.652167",
     "status": "completed"
    },
    "tags": []
   },
   "source": [
    "# Tensorflow"
   ]
  },
  {
   "cell_type": "markdown",
   "id": "b7e9d127",
   "metadata": {
    "papermill": {
     "duration": 0.049374,
     "end_time": "2023-08-10T08:56:18.801003",
     "exception": false,
     "start_time": "2023-08-10T08:56:18.751629",
     "status": "completed"
    },
    "tags": []
   },
   "source": [
    "It is time to get fancy. So far, we have applied basic regression models to predict the Housing prices. Then, we stacked them to improve the forecast a bit more. In this part, we will use tensorflow decision trees to see if they can outperform the stacked regressor."
   ]
  },
  {
   "cell_type": "code",
   "execution_count": 62,
   "id": "d72015da",
   "metadata": {
    "execution": {
     "iopub.execute_input": "2023-08-10T08:56:18.904756Z",
     "iopub.status.busy": "2023-08-10T08:56:18.904273Z",
     "iopub.status.idle": "2023-08-10T08:56:29.307945Z",
     "shell.execute_reply": "2023-08-10T08:56:29.306730Z"
    },
    "papermill": {
     "duration": 10.458815,
     "end_time": "2023-08-10T08:56:29.311170",
     "exception": false,
     "start_time": "2023-08-10T08:56:18.852355",
     "status": "completed"
    },
    "tags": []
   },
   "outputs": [
    {
     "name": "stdout",
     "output_type": "stream",
     "text": [
      "TensorFlow v2.12.0\n",
      "TensorFlow Decision Forests v1.4.0\n"
     ]
    }
   ],
   "source": [
    "import tensorflow as tf\n",
    "import tensorflow_decision_forests as tfdf\n",
    "print(\"TensorFlow v\" + tf.__version__)\n",
    "print(\"TensorFlow Decision Forests v\" + tfdf.__version__)"
   ]
  },
  {
   "cell_type": "code",
   "execution_count": 63,
   "id": "74b85c81",
   "metadata": {
    "execution": {
     "iopub.execute_input": "2023-08-10T08:56:29.410998Z",
     "iopub.status.busy": "2023-08-10T08:56:29.410164Z",
     "iopub.status.idle": "2023-08-10T08:56:29.418177Z",
     "shell.execute_reply": "2023-08-10T08:56:29.416959Z"
    },
    "papermill": {
     "duration": 0.05987,
     "end_time": "2023-08-10T08:56:29.420608",
     "exception": false,
     "start_time": "2023-08-10T08:56:29.360738",
     "status": "completed"
    },
    "tags": []
   },
   "outputs": [
    {
     "data": {
      "text/plain": [
       "(1458, 78)"
      ]
     },
     "execution_count": 63,
     "metadata": {},
     "output_type": "execute_result"
    }
   ],
   "source": [
    "df_train.shape"
   ]
  },
  {
   "cell_type": "code",
   "execution_count": 64,
   "id": "74770ef5",
   "metadata": {
    "execution": {
     "iopub.execute_input": "2023-08-10T08:56:29.519856Z",
     "iopub.status.busy": "2023-08-10T08:56:29.519437Z",
     "iopub.status.idle": "2023-08-10T08:56:29.530336Z",
     "shell.execute_reply": "2023-08-10T08:56:29.529045Z"
    },
    "papermill": {
     "duration": 0.064805,
     "end_time": "2023-08-10T08:56:29.533593",
     "exception": false,
     "start_time": "2023-08-10T08:56:29.468788",
     "status": "completed"
    },
    "tags": []
   },
   "outputs": [],
   "source": [
    "df_train = df_all[:ntrain-2]\n",
    "df_test = df_all[ntrain-2:].drop('SalePrice',axis=1)"
   ]
  },
  {
   "cell_type": "code",
   "execution_count": 65,
   "id": "e1dac7b7",
   "metadata": {
    "execution": {
     "iopub.execute_input": "2023-08-10T08:56:29.634511Z",
     "iopub.status.busy": "2023-08-10T08:56:29.634096Z",
     "iopub.status.idle": "2023-08-10T08:56:29.649250Z",
     "shell.execute_reply": "2023-08-10T08:56:29.647961Z"
    },
    "papermill": {
     "duration": 0.068947,
     "end_time": "2023-08-10T08:56:29.651808",
     "exception": false,
     "start_time": "2023-08-10T08:56:29.582861",
     "status": "completed"
    },
    "tags": []
   },
   "outputs": [
    {
     "name": "stdout",
     "output_type": "stream",
     "text": [
      "999 examples in training, 459 examples in testing.\n"
     ]
    }
   ],
   "source": [
    "def split_dataset(dataset, test_ratio=0.30):\n",
    "  test_indices = np.random.rand(len(dataset)) < test_ratio\n",
    "  return dataset[~test_indices], dataset[test_indices]\n",
    "\n",
    "train_ds_pd, valid_ds_pd = split_dataset(df_train)\n",
    "print(\"{} examples in training, {} examples in testing.\".format(\n",
    "    len(train_ds_pd), len(valid_ds_pd)))"
   ]
  },
  {
   "cell_type": "code",
   "execution_count": 66,
   "id": "4b046189",
   "metadata": {
    "execution": {
     "iopub.execute_input": "2023-08-10T08:56:29.750246Z",
     "iopub.status.busy": "2023-08-10T08:56:29.749317Z",
     "iopub.status.idle": "2023-08-10T08:56:30.394896Z",
     "shell.execute_reply": "2023-08-10T08:56:30.393506Z"
    },
    "papermill": {
     "duration": 0.697898,
     "end_time": "2023-08-10T08:56:30.397947",
     "exception": false,
     "start_time": "2023-08-10T08:56:29.700049",
     "status": "completed"
    },
    "tags": []
   },
   "outputs": [
    {
     "name": "stdout",
     "output_type": "stream",
     "text": [
      "Warning: Some of the feature names have been changed automatically to be compatible with SavedModels because fix_feature_names=True.\n",
      "Warning: Some of the feature names have been changed automatically to be compatible with SavedModels because fix_feature_names=True.\n"
     ]
    }
   ],
   "source": [
    "label = 'SalePrice'\n",
    "train_ds = tfdf.keras.pd_dataframe_to_tf_dataset(train_ds_pd, label=label, task = tfdf.keras.Task.REGRESSION)\n",
    "valid_ds = tfdf.keras.pd_dataframe_to_tf_dataset(valid_ds_pd, label=label, task = tfdf.keras.Task.REGRESSION)"
   ]
  },
  {
   "cell_type": "code",
   "execution_count": 67,
   "id": "4623081f",
   "metadata": {
    "execution": {
     "iopub.execute_input": "2023-08-10T08:56:30.497569Z",
     "iopub.status.busy": "2023-08-10T08:56:30.496515Z",
     "iopub.status.idle": "2023-08-10T08:56:30.505047Z",
     "shell.execute_reply": "2023-08-10T08:56:30.503622Z"
    },
    "papermill": {
     "duration": 0.060695,
     "end_time": "2023-08-10T08:56:30.507475",
     "exception": false,
     "start_time": "2023-08-10T08:56:30.446780",
     "status": "completed"
    },
    "tags": []
   },
   "outputs": [
    {
     "data": {
      "text/plain": [
       "[tensorflow_decision_forests.keras.RandomForestModel,\n",
       " tensorflow_decision_forests.keras.GradientBoostedTreesModel,\n",
       " tensorflow_decision_forests.keras.CartModel,\n",
       " tensorflow_decision_forests.keras.DistributedGradientBoostedTreesModel]"
      ]
     },
     "execution_count": 67,
     "metadata": {},
     "output_type": "execute_result"
    }
   ],
   "source": [
    "tfdf.keras.get_all_models()\n"
   ]
  },
  {
   "cell_type": "code",
   "execution_count": 68,
   "id": "19276151",
   "metadata": {
    "execution": {
     "iopub.execute_input": "2023-08-10T08:56:30.611248Z",
     "iopub.status.busy": "2023-08-10T08:56:30.610829Z",
     "iopub.status.idle": "2023-08-10T08:56:30.655590Z",
     "shell.execute_reply": "2023-08-10T08:56:30.654371Z"
    },
    "papermill": {
     "duration": 0.097892,
     "end_time": "2023-08-10T08:56:30.658713",
     "exception": false,
     "start_time": "2023-08-10T08:56:30.560821",
     "status": "completed"
    },
    "tags": []
   },
   "outputs": [
    {
     "name": "stdout",
     "output_type": "stream",
     "text": [
      "Resolve hyper-parameter template \"benchmark_rank1\" to \"benchmark_rank1@v1\" -> {'winner_take_all': True, 'categorical_algorithm': 'RANDOM', 'split_axis': 'SPARSE_OBLIQUE', 'sparse_oblique_normalization': 'MIN_MAX', 'sparse_oblique_num_projections_exponent': 1.0}.\n",
      "Use /tmp/tmplir9doif as temporary training directory\n"
     ]
    }
   ],
   "source": [
    "rf = tfdf.keras.RandomForestModel(hyperparameter_template=\"benchmark_rank1\", task=tfdf.keras.Task.REGRESSION)"
   ]
  },
  {
   "cell_type": "code",
   "execution_count": 69,
   "id": "3bb6cd83",
   "metadata": {
    "execution": {
     "iopub.execute_input": "2023-08-10T08:56:30.758695Z",
     "iopub.status.busy": "2023-08-10T08:56:30.758279Z",
     "iopub.status.idle": "2023-08-10T08:56:30.801894Z",
     "shell.execute_reply": "2023-08-10T08:56:30.800584Z"
    },
    "papermill": {
     "duration": 0.097783,
     "end_time": "2023-08-10T08:56:30.805213",
     "exception": false,
     "start_time": "2023-08-10T08:56:30.707430",
     "status": "completed"
    },
    "tags": []
   },
   "outputs": [
    {
     "name": "stdout",
     "output_type": "stream",
     "text": [
      "Use /tmp/tmpn76av5nf as temporary training directory\n"
     ]
    }
   ],
   "source": [
    "rf = tfdf.keras.RandomForestModel(task = tfdf.keras.Task.REGRESSION)\n",
    "rf.compile(metrics=[\"mse\"]) # Optional, you can use this to include a list of eval metrics"
   ]
  },
  {
   "cell_type": "code",
   "execution_count": 70,
   "id": "3f2cd8a5",
   "metadata": {
    "execution": {
     "iopub.execute_input": "2023-08-10T08:56:30.909009Z",
     "iopub.status.busy": "2023-08-10T08:56:30.908602Z",
     "iopub.status.idle": "2023-08-10T08:57:01.264993Z",
     "shell.execute_reply": "2023-08-10T08:57:01.263462Z"
    },
    "papermill": {
     "duration": 30.463883,
     "end_time": "2023-08-10T08:57:01.320222",
     "exception": false,
     "start_time": "2023-08-10T08:56:30.856339",
     "status": "completed"
    },
    "tags": []
   },
   "outputs": [
    {
     "name": "stdout",
     "output_type": "stream",
     "text": [
      "Reading training dataset...\n",
      "Training dataset read in 0:00:10.082279. Found 999 examples.\n",
      "Training model...\n"
     ]
    },
    {
     "name": "stderr",
     "output_type": "stream",
     "text": [
      "[INFO 23-08-10 08:56:49.0629 UTC kernel.cc:1243] Loading model from path /tmp/tmpn76av5nf/model/ with prefix 512d988644844d18\n"
     ]
    },
    {
     "name": "stdout",
     "output_type": "stream",
     "text": [
      "Model trained in 0:00:08.492210\n",
      "Compiling model...\n"
     ]
    },
    {
     "name": "stderr",
     "output_type": "stream",
     "text": [
      "[INFO 23-08-10 08:56:49.4581 UTC decision_forest.cc:660] Model loaded with 300 root(s), 95040 node(s), and 166 input feature(s).\n",
      "[INFO 23-08-10 08:56:49.4582 UTC abstract_model.cc:1311] Engine \"RandomForestOptPred\" built\n",
      "[INFO 23-08-10 08:56:49.4583 UTC kernel.cc:1075] Use fast generic engine\n"
     ]
    },
    {
     "name": "stdout",
     "output_type": "stream",
     "text": [
      "WARNING: AutoGraph could not transform <function simple_ml_inference_op_with_handle at 0x7ba8b1d15f30> and will run it as-is.\n",
      "Please report this to the TensorFlow team. When filing the bug, set the verbosity to 10 (on Linux, `export AUTOGRAPH_VERBOSITY=10`) and attach the full output.\n",
      "Cause: could not get source code\n",
      "To silence this warning, decorate the function with @tf.autograph.experimental.do_not_convert\n",
      "Model compiled.\n"
     ]
    },
    {
     "data": {
      "text/plain": [
       "<keras.callbacks.History at 0x7ba92d7c8b50>"
      ]
     },
     "execution_count": 70,
     "metadata": {},
     "output_type": "execute_result"
    }
   ],
   "source": [
    "rf.fit(x=train_ds)\n"
   ]
  },
  {
   "cell_type": "code",
   "execution_count": 71,
   "id": "a30353b2",
   "metadata": {
    "execution": {
     "iopub.execute_input": "2023-08-10T08:57:01.425840Z",
     "iopub.status.busy": "2023-08-10T08:57:01.425364Z",
     "iopub.status.idle": "2023-08-10T08:57:01.451306Z",
     "shell.execute_reply": "2023-08-10T08:57:01.449925Z"
    },
    "papermill": {
     "duration": 0.081467,
     "end_time": "2023-08-10T08:57:01.453872",
     "exception": false,
     "start_time": "2023-08-10T08:57:01.372405",
     "status": "completed"
    },
    "tags": []
   },
   "outputs": [
    {
     "data": {
      "text/html": [
       "\n",
       "<script src=\"https://d3js.org/d3.v6.min.js\"></script>\n",
       "<div id=\"tree_plot_48d8bf0193014590b4e4c9ed11f13326\"></div>\n",
       "<script>\n",
       "/*\n",
       " * Copyright 2021 Google LLC.\n",
       " * Licensed under the Apache License, Version 2.0 (the \"License\");\n",
       " * you may not use this file except in compliance with the License.\n",
       " * You may obtain a copy of the License at\n",
       " *\n",
       " *     https://www.apache.org/licenses/LICENSE-2.0\n",
       " *\n",
       " * Unless required by applicable law or agreed to in writing, software\n",
       " * distributed under the License is distributed on an \"AS IS\" BASIS,\n",
       " * WITHOUT WARRANTIES OR CONDITIONS OF ANY KIND, either express or implied.\n",
       " * See the License for the specific language governing permissions and\n",
       " * limitations under the License.\n",
       " */\n",
       "\n",
       "/**\n",
       " *  Plotting of decision trees generated by TF-DF.\n",
       " *\n",
       " *  A tree is a recursive structure of node objects.\n",
       " *  A node contains one or more of the following components:\n",
       " *\n",
       " *    - A value: Representing the output of the node. If the node is not a leaf,\n",
       " *      the value is only present for analysis i.e. it is not used for\n",
       " *      predictions.\n",
       " *\n",
       " *    - A condition : For non-leaf nodes, the condition (also known as split)\n",
       " *      defines a binary test to branch to the positive or negative child.\n",
       " *\n",
       " *    - An explanation: Generally a plot showing the relation between the label\n",
       " *      and the condition to give insights about the effect of the condition.\n",
       " *\n",
       " *    - Two children : For non-leaf nodes, the children nodes. The first\n",
       " *      children (i.e. \"node.children[0]\") is the negative children (drawn in\n",
       " *      red). The second children is the positive one (drawn in green).\n",
       " *\n",
       " */\n",
       "\n",
       "/**\n",
       " * Plots a single decision tree into a DOM element.\n",
       " * @param {!options} options Dictionary of configurations.\n",
       " * @param {!tree} raw_tree Recursive tree structure.\n",
       " * @param {string} canvas_id Id of the output dom element.\n",
       " */\n",
       "function display_tree(options, raw_tree, canvas_id) {\n",
       "  console.log(options);\n",
       "\n",
       "  // Determine the node placement.\n",
       "  const tree_struct = d3.tree().nodeSize(\n",
       "      [options.node_y_offset, options.node_x_offset])(d3.hierarchy(raw_tree));\n",
       "\n",
       "  // Boundaries of the node placement.\n",
       "  let x_min = Infinity;\n",
       "  let x_max = -x_min;\n",
       "  let y_min = Infinity;\n",
       "  let y_max = -x_min;\n",
       "\n",
       "  tree_struct.each(d => {\n",
       "    if (d.x > x_max) x_max = d.x;\n",
       "    if (d.x < x_min) x_min = d.x;\n",
       "    if (d.y > y_max) y_max = d.y;\n",
       "    if (d.y < y_min) y_min = d.y;\n",
       "  });\n",
       "\n",
       "  // Size of the plot.\n",
       "  const width = y_max - y_min + options.node_x_size + options.margin * 2;\n",
       "  const height = x_max - x_min + options.node_y_size + options.margin * 2 +\n",
       "      options.node_y_offset - options.node_y_size;\n",
       "\n",
       "  const plot = d3.select(canvas_id);\n",
       "\n",
       "  // Tool tip\n",
       "  options.tooltip = plot.append('div')\n",
       "                        .attr('width', 100)\n",
       "                        .attr('height', 100)\n",
       "                        .style('padding', '4px')\n",
       "                        .style('background', '#fff')\n",
       "                        .style('box-shadow', '4px 4px 0px rgba(0,0,0,0.1)')\n",
       "                        .style('border', '1px solid black')\n",
       "                        .style('font-family', 'sans-serif')\n",
       "                        .style('font-size', options.font_size)\n",
       "                        .style('position', 'absolute')\n",
       "                        .style('z-index', '10')\n",
       "                        .attr('pointer-events', 'none')\n",
       "                        .style('display', 'none');\n",
       "\n",
       "  // Create canvas\n",
       "  const svg = plot.append('svg').attr('width', width).attr('height', height);\n",
       "  const graph =\n",
       "      svg.style('overflow', 'visible')\n",
       "          .append('g')\n",
       "          .attr('font-family', 'sans-serif')\n",
       "          .attr('font-size', options.font_size)\n",
       "          .attr(\n",
       "              'transform',\n",
       "              () => `translate(${options.margin},${\n",
       "                  - x_min + options.node_y_offset / 2 + options.margin})`);\n",
       "\n",
       "  // Plot bounding box.\n",
       "  if (options.show_plot_bounding_box) {\n",
       "    svg.append('rect')\n",
       "        .attr('width', width)\n",
       "        .attr('height', height)\n",
       "        .attr('fill', 'none')\n",
       "        .attr('stroke-width', 1.0)\n",
       "        .attr('stroke', 'black');\n",
       "  }\n",
       "\n",
       "  // Draw the edges.\n",
       "  display_edges(options, graph, tree_struct);\n",
       "\n",
       "  // Draw the nodes.\n",
       "  display_nodes(options, graph, tree_struct);\n",
       "}\n",
       "\n",
       "/**\n",
       " * Draw the nodes of the tree.\n",
       " * @param {!options} options Dictionary of configurations.\n",
       " * @param {!graph} graph D3 search handle containing the graph.\n",
       " * @param {!tree_struct} tree_struct Structure of the tree (node placement,\n",
       " *     data, etc.).\n",
       " */\n",
       "function display_nodes(options, graph, tree_struct) {\n",
       "  const nodes = graph.append('g')\n",
       "                    .selectAll('g')\n",
       "                    .data(tree_struct.descendants())\n",
       "                    .join('g')\n",
       "                    .attr('transform', d => `translate(${d.y},${d.x})`);\n",
       "\n",
       "  nodes.append('rect')\n",
       "      .attr('x', 0.5)\n",
       "      .attr('y', 0.5)\n",
       "      .attr('width', options.node_x_size)\n",
       "      .attr('height', options.node_y_size)\n",
       "      .attr('stroke', 'lightgrey')\n",
       "      .attr('stroke-width', 1)\n",
       "      .attr('fill', 'white')\n",
       "      .attr('y', -options.node_y_size / 2);\n",
       "\n",
       "  // Brackets on the right of condition nodes without children.\n",
       "  non_leaf_node_without_children =\n",
       "      nodes.filter(node => node.data.condition != null && node.children == null)\n",
       "          .append('g')\n",
       "          .attr('transform', `translate(${options.node_x_size},0)`);\n",
       "\n",
       "  non_leaf_node_without_children.append('path')\n",
       "      .attr('d', 'M0,0 C 10,0 0,10 10,10')\n",
       "      .attr('fill', 'none')\n",
       "      .attr('stroke-width', 1.0)\n",
       "      .attr('stroke', '#F00');\n",
       "\n",
       "  non_leaf_node_without_children.append('path')\n",
       "      .attr('d', 'M0,0 C 10,0 0,-10 10,-10')\n",
       "      .attr('fill', 'none')\n",
       "      .attr('stroke-width', 1.0)\n",
       "      .attr('stroke', '#0F0');\n",
       "\n",
       "  const node_content = nodes.append('g').attr(\n",
       "      'transform',\n",
       "      `translate(0,${options.node_padding - options.node_y_size / 2})`);\n",
       "\n",
       "  node_content.append(node => create_node_element(options, node));\n",
       "}\n",
       "\n",
       "/**\n",
       " * Creates the D3 content for a single node.\n",
       " * @param {!options} options Dictionary of configurations.\n",
       " * @param {!node} node Node to draw.\n",
       " * @return {!d3} D3 content.\n",
       " */\n",
       "function create_node_element(options, node) {\n",
       "  // Output accumulator.\n",
       "  let output = {\n",
       "    // Content to draw.\n",
       "    content: d3.create('svg:g'),\n",
       "    // Vertical offset to the next element to draw.\n",
       "    vertical_offset: 0\n",
       "  };\n",
       "\n",
       "  // Conditions.\n",
       "  if (node.data.condition != null) {\n",
       "    display_condition(options, node.data.condition, output);\n",
       "  }\n",
       "\n",
       "  // Values.\n",
       "  if (node.data.value != null) {\n",
       "    display_value(options, node.data.value, output);\n",
       "  }\n",
       "\n",
       "  // Explanations.\n",
       "  if (node.data.explanation != null) {\n",
       "    display_explanation(options, node.data.explanation, output);\n",
       "  }\n",
       "\n",
       "  return output.content.node();\n",
       "}\n",
       "\n",
       "\n",
       "/**\n",
       " * Adds a single line of text inside of a node.\n",
       " * @param {!options} options Dictionary of configurations.\n",
       " * @param {string} text Text to display.\n",
       " * @param {!output} output Output display accumulator.\n",
       " */\n",
       "function display_node_text(options, text, output) {\n",
       "  output.content.append('text')\n",
       "      .attr('x', options.node_padding)\n",
       "      .attr('y', output.vertical_offset)\n",
       "      .attr('alignment-baseline', 'hanging')\n",
       "      .text(text);\n",
       "  output.vertical_offset += 10;\n",
       "}\n",
       "\n",
       "/**\n",
       " * Adds a single line of text inside of a node with a tooltip.\n",
       " * @param {!options} options Dictionary of configurations.\n",
       " * @param {string} text Text to display.\n",
       " * @param {string} tooltip Text in the Tooltip.\n",
       " * @param {!output} output Output display accumulator.\n",
       " */\n",
       "function display_node_text_with_tooltip(options, text, tooltip, output) {\n",
       "  const item = output.content.append('text')\n",
       "                   .attr('x', options.node_padding)\n",
       "                   .attr('alignment-baseline', 'hanging')\n",
       "                   .text(text);\n",
       "\n",
       "  add_tooltip(options, item, () => tooltip);\n",
       "  output.vertical_offset += 10;\n",
       "}\n",
       "\n",
       "/**\n",
       " * Adds a tooltip to a dom element.\n",
       " * @param {!options} options Dictionary of configurations.\n",
       " * @param {!dom} target Dom element to equip with a tooltip.\n",
       " * @param {!func} get_content Generates the html content of the tooltip.\n",
       " */\n",
       "function add_tooltip(options, target, get_content) {\n",
       "  function show(d) {\n",
       "    options.tooltip.style('display', 'block');\n",
       "    options.tooltip.html(get_content());\n",
       "  }\n",
       "\n",
       "  function hide(d) {\n",
       "    options.tooltip.style('display', 'none');\n",
       "  }\n",
       "\n",
       "  function move(d) {\n",
       "    options.tooltip.style('display', 'block');\n",
       "    options.tooltip.style('left', (d.pageX + 5) + 'px');\n",
       "    options.tooltip.style('top', d.pageY + 'px');\n",
       "  }\n",
       "\n",
       "  target.on('mouseover', show);\n",
       "  target.on('mouseout', hide);\n",
       "  target.on('mousemove', move);\n",
       "}\n",
       "\n",
       "/**\n",
       " * Adds a condition inside of a node.\n",
       " * @param {!options} options Dictionary of configurations.\n",
       " * @param {!condition} condition Condition to display.\n",
       " * @param {!output} output Output display accumulator.\n",
       " */\n",
       "function display_condition(options, condition, output) {\n",
       "  threshold_format = d3.format('r');\n",
       "\n",
       "  if (condition.type === 'IS_MISSING') {\n",
       "    display_node_text(options, `${condition.attribute} is missing`, output);\n",
       "    return;\n",
       "  }\n",
       "\n",
       "  if (condition.type === 'IS_TRUE') {\n",
       "    display_node_text(options, `${condition.attribute} is true`, output);\n",
       "    return;\n",
       "  }\n",
       "\n",
       "  if (condition.type === 'NUMERICAL_IS_HIGHER_THAN') {\n",
       "    format = d3.format('r');\n",
       "    display_node_text(\n",
       "        options,\n",
       "        `${condition.attribute} >= ${threshold_format(condition.threshold)}`,\n",
       "        output);\n",
       "    return;\n",
       "  }\n",
       "\n",
       "  if (condition.type === 'CATEGORICAL_IS_IN') {\n",
       "    display_node_text_with_tooltip(\n",
       "        options, `${condition.attribute} in [...]`,\n",
       "        `${condition.attribute} in [${condition.mask}]`, output);\n",
       "    return;\n",
       "  }\n",
       "\n",
       "  if (condition.type === 'CATEGORICAL_SET_CONTAINS') {\n",
       "    display_node_text_with_tooltip(\n",
       "        options, `${condition.attribute} intersect [...]`,\n",
       "        `${condition.attribute} intersect [${condition.mask}]`, output);\n",
       "    return;\n",
       "  }\n",
       "\n",
       "  if (condition.type === 'NUMERICAL_SPARSE_OBLIQUE') {\n",
       "    display_node_text_with_tooltip(\n",
       "        options, `Sparse oblique split...`,\n",
       "        `[${condition.attributes}]*[${condition.weights}]>=${\n",
       "            threshold_format(condition.threshold)}`,\n",
       "        output);\n",
       "    return;\n",
       "  }\n",
       "\n",
       "  display_node_text(\n",
       "      options, `Non supported condition ${condition.type}`, output);\n",
       "}\n",
       "\n",
       "/**\n",
       " * Adds a value inside of a node.\n",
       " * @param {!options} options Dictionary of configurations.\n",
       " * @param {!value} value Value to display.\n",
       " * @param {!output} output Output display accumulator.\n",
       " */\n",
       "function display_value(options, value, output) {\n",
       "  if (value.type === 'PROBABILITY') {\n",
       "    const left_margin = 0;\n",
       "    const right_margin = 50;\n",
       "    const plot_width = options.node_x_size - options.node_padding * 2 -\n",
       "        left_margin - right_margin;\n",
       "\n",
       "    let cusum = Array.from(d3.cumsum(value.distribution));\n",
       "    cusum.unshift(0);\n",
       "    const distribution_plot = output.content.append('g').attr(\n",
       "        'transform', `translate(0,${output.vertical_offset + 0.5})`);\n",
       "\n",
       "    distribution_plot.selectAll('rect')\n",
       "        .data(value.distribution)\n",
       "        .join('rect')\n",
       "        .attr('height', 10)\n",
       "        .attr(\n",
       "            'x',\n",
       "            (d, i) =>\n",
       "                (cusum[i] * plot_width + left_margin + options.node_padding))\n",
       "        .attr('width', (d, i) => d * plot_width)\n",
       "        .style('fill', (d, i) => d3.schemeSet1[i]);\n",
       "\n",
       "    const num_examples =\n",
       "        output.content.append('g')\n",
       "            .attr('transform', `translate(0,${output.vertical_offset})`)\n",
       "            .append('text')\n",
       "            .attr('x', options.node_x_size - options.node_padding)\n",
       "            .attr('alignment-baseline', 'hanging')\n",
       "            .attr('text-anchor', 'end')\n",
       "            .text(`(${value.num_examples})`);\n",
       "\n",
       "    const distribution_details = d3.create('ul');\n",
       "    distribution_details.selectAll('li')\n",
       "        .data(value.distribution)\n",
       "        .join('li')\n",
       "        .append('span')\n",
       "        .text(\n",
       "            (d, i) =>\n",
       "                'class ' + i + ': ' + d3.format('.3%')(value.distribution[i]));\n",
       "\n",
       "    add_tooltip(options, distribution_plot, () => distribution_details.html());\n",
       "    add_tooltip(options, num_examples, () => 'Number of examples');\n",
       "\n",
       "    output.vertical_offset += 10;\n",
       "    return;\n",
       "  }\n",
       "\n",
       "  if (value.type === 'REGRESSION') {\n",
       "    display_node_text(\n",
       "        options,\n",
       "        'value: ' + d3.format('r')(value.value) + ` (` +\n",
       "            d3.format('.6')(value.num_examples) + `)`,\n",
       "        output);\n",
       "    return;\n",
       "  }\n",
       "\n",
       "  if (value.type === 'UPLIFT') {\n",
       "    display_node_text(\n",
       "        options,\n",
       "        'effect: ' + d3.format('r')(value.treatment_effect) + ` (` +\n",
       "            d3.format('.6')(value.num_examples) + `)`,\n",
       "        output);\n",
       "    return;\n",
       "  }\n",
       "\n",
       "  display_node_text(options, `Non supported value ${value.type}`, output);\n",
       "}\n",
       "\n",
       "/**\n",
       " * Adds an explanation inside of a node.\n",
       " * @param {!options} options Dictionary of configurations.\n",
       " * @param {!explanation} explanation Explanation to display.\n",
       " * @param {!output} output Output display accumulator.\n",
       " */\n",
       "function display_explanation(options, explanation, output) {\n",
       "  // Margin before the explanation.\n",
       "  output.vertical_offset += 10;\n",
       "\n",
       "  display_node_text(\n",
       "      options, `Non supported explanation ${explanation.type}`, output);\n",
       "}\n",
       "\n",
       "\n",
       "/**\n",
       " * Draw the edges of the tree.\n",
       " * @param {!options} options Dictionary of configurations.\n",
       " * @param {!graph} graph D3 search handle containing the graph.\n",
       " * @param {!tree_struct} tree_struct Structure of the tree (node placement,\n",
       " *     data, etc.).\n",
       " */\n",
       "function display_edges(options, graph, tree_struct) {\n",
       "  // Draw an edge between a parent and a child node with a bezier.\n",
       "  function draw_single_edge(d) {\n",
       "    return 'M' + (d.source.y + options.node_x_size) + ',' + d.source.x + ' C' +\n",
       "        (d.source.y + options.node_x_size + options.edge_rounding) + ',' +\n",
       "        d.source.x + ' ' + (d.target.y - options.edge_rounding) + ',' +\n",
       "        d.target.x + ' ' + d.target.y + ',' + d.target.x;\n",
       "  }\n",
       "\n",
       "  graph.append('g')\n",
       "      .attr('fill', 'none')\n",
       "      .attr('stroke-width', 1.2)\n",
       "      .selectAll('path')\n",
       "      .data(tree_struct.links())\n",
       "      .join('path')\n",
       "      .attr('d', draw_single_edge)\n",
       "      .attr(\n",
       "          'stroke', d => (d.target === d.source.children[0]) ? '#0F0' : '#F00');\n",
       "}\n",
       "\n",
       "display_tree({\"margin\": 10, \"node_x_size\": 160, \"node_y_size\": 28, \"node_x_offset\": 180, \"node_y_offset\": 33, \"font_size\": 10, \"edge_rounding\": 20, \"node_padding\": 2, \"show_plot_bounding_box\": false}, {\"value\": {\"type\": \"REGRESSION\", \"value\": 12.039481163024902, \"num_examples\": 999.0, \"standard_deviation\": 0.4173173737734912}, \"condition\": {\"type\": \"NUMERICAL_IS_HIGHER_THAN\", \"attribute\": \"OverallQual\", \"threshold\": 2.349971055984497}, \"children\": [{\"value\": {\"type\": \"REGRESSION\", \"value\": 12.3814697265625, \"num_examples\": 396.0, \"standard_deviation\": 0.316962869938321}, \"condition\": {\"type\": \"NUMERICAL_IS_HIGHER_THAN\", \"attribute\": \"TotalSF\", \"threshold\": 15.922389030456543}, \"children\": [{\"value\": {\"type\": \"REGRESSION\", \"value\": 12.749123573303223, \"num_examples\": 109.0, \"standard_deviation\": 0.29702000484533847}, \"condition\": {\"type\": \"NUMERICAL_IS_HIGHER_THAN\", \"attribute\": \"TotalSF\", \"threshold\": 17.294363021850586}, \"children\": [{\"value\": {\"type\": \"REGRESSION\", \"value\": 13.255101203918457, \"num_examples\": 15.0, \"standard_deviation\": 0.2090131472498286}, \"condition\": {\"type\": \"NUMERICAL_IS_HIGHER_THAN\", \"attribute\": \"2ndFlrSF\", \"threshold\": 13.229393005371094}}, {\"value\": {\"type\": \"REGRESSION\", \"value\": 12.66838264465332, \"num_examples\": 94.0, \"standard_deviation\": 0.21898664076658603}, \"condition\": {\"type\": \"NUMERICAL_IS_HIGHER_THAN\", \"attribute\": \"OverallQual\", \"threshold\": 2.676422357559204}}]}, {\"value\": {\"type\": \"REGRESSION\", \"value\": 12.241837501525879, \"num_examples\": 287.0, \"standard_deviation\": 0.18515514519211182}, \"condition\": {\"type\": \"NUMERICAL_IS_HIGHER_THAN\", \"attribute\": \"TotalSF\", \"threshold\": 15.410839080810547}, \"children\": [{\"value\": {\"type\": \"REGRESSION\", \"value\": 12.383089065551758, \"num_examples\": 112.0, \"standard_deviation\": 0.12178276781395897}, \"condition\": {\"type\": \"NUMERICAL_IS_HIGHER_THAN\", \"attribute\": \"KitchenQual\", \"threshold\": 0.5971587896347046}}, {\"value\": {\"type\": \"REGRESSION\", \"value\": 12.151436805725098, \"num_examples\": 175.0, \"standard_deviation\": 0.1605919275853125}, \"condition\": {\"type\": \"NUMERICAL_IS_HIGHER_THAN\", \"attribute\": \"TotalSF\", \"threshold\": 14.933292388916016}}]}]}, {\"value\": {\"type\": \"REGRESSION\", \"value\": 11.814892768859863, \"num_examples\": 603.0, \"standard_deviation\": 0.30870553937806616}, \"condition\": {\"type\": \"NUMERICAL_IS_HIGHER_THAN\", \"attribute\": \"TotalSF\", \"threshold\": 14.320877075195312}, \"children\": [{\"value\": {\"type\": \"REGRESSION\", \"value\": 11.968196868896484, \"num_examples\": 357.0, \"standard_deviation\": 0.2234733866600845}, \"condition\": {\"type\": \"NUMERICAL_IS_HIGHER_THAN\", \"attribute\": \"GarageCars\", \"threshold\": 0.9623903632164001}, \"children\": [{\"value\": {\"type\": \"REGRESSION\", \"value\": 12.031516075134277, \"num_examples\": 231.0, \"standard_deviation\": 0.20268588716327102}, \"condition\": {\"type\": \"NUMERICAL_IS_HIGHER_THAN\", \"attribute\": \"OverallQual\", \"threshold\": 2.1576576232910156}}, {\"value\": {\"type\": \"REGRESSION\", \"value\": 11.85211181640625, \"num_examples\": 126.0, \"standard_deviation\": 0.21296778484466955}, \"condition\": {\"type\": \"NUMERICAL_IS_HIGHER_THAN\", \"attribute\": \"2ndFlrSF\", \"threshold\": 11.517541885375977}}]}, {\"value\": {\"type\": \"REGRESSION\", \"value\": 11.592412948608398, \"num_examples\": 246.0, \"standard_deviation\": 0.2784249887461517}, \"condition\": {\"type\": \"NUMERICAL_IS_HIGHER_THAN\", \"attribute\": \"CentralAir\", \"threshold\": 0.36523157358169556}, \"children\": [{\"value\": {\"type\": \"REGRESSION\", \"value\": 11.669445037841797, \"num_examples\": 198.0, \"standard_deviation\": 0.1952567503947882}, \"condition\": {\"type\": \"NUMERICAL_IS_HIGHER_THAN\", \"attribute\": \"BsmtFinSF1\", \"threshold\": 9.374515533447266}}, {\"value\": {\"type\": \"REGRESSION\", \"value\": 11.274656295776367, \"num_examples\": 48.0, \"standard_deviation\": 0.33849556745929327}, \"condition\": {\"type\": \"NUMERICAL_IS_HIGHER_THAN\", \"attribute\": \"MSZoning_C_(all)\", \"threshold\": 0.5}}]}]}]}, \"#tree_plot_48d8bf0193014590b4e4c9ed11f13326\")\n",
       "</script>\n"
      ],
      "text/plain": [
       "<IPython.core.display.HTML object>"
      ]
     },
     "execution_count": 71,
     "metadata": {},
     "output_type": "execute_result"
    }
   ],
   "source": [
    "tfdf.model_plotter.plot_model_in_colab(rf, tree_idx=0, max_depth=3)"
   ]
  },
  {
   "cell_type": "code",
   "execution_count": 72,
   "id": "53c4b90f",
   "metadata": {
    "execution": {
     "iopub.execute_input": "2023-08-10T08:57:01.560066Z",
     "iopub.status.busy": "2023-08-10T08:57:01.559608Z",
     "iopub.status.idle": "2023-08-10T08:57:01.928066Z",
     "shell.execute_reply": "2023-08-10T08:57:01.926671Z"
    },
    "papermill": {
     "duration": 0.426101,
     "end_time": "2023-08-10T08:57:01.932042",
     "exception": false,
     "start_time": "2023-08-10T08:57:01.505941",
     "status": "completed"
    },
    "tags": []
   },
   "outputs": [
    {
     "data": {
      "image/png": "[encoded data removed]",
      "text/plain": [
       "<Figure size 640x480 with 1 Axes>"
      ]
     },
     "metadata": {},
     "output_type": "display_data"
    }
   ],
   "source": [
    "import matplotlib.pyplot as plt\n",
    "logs = rf.make_inspector().training_logs()\n",
    "plt.plot([log.num_trees for log in logs], [log.evaluation.rmse for log in logs])\n",
    "plt.xlabel(\"Number of trees\")\n",
    "plt.ylabel(\"RMSE (out-of-bag)\")\n",
    "plt.show()"
   ]
  },
  {
   "cell_type": "code",
   "execution_count": 73,
   "id": "c4ed6bbf",
   "metadata": {
    "execution": {
     "iopub.execute_input": "2023-08-10T08:57:02.043199Z",
     "iopub.status.busy": "2023-08-10T08:57:02.042798Z",
     "iopub.status.idle": "2023-08-10T08:57:02.054079Z",
     "shell.execute_reply": "2023-08-10T08:57:02.052685Z"
    },
    "papermill": {
     "duration": 0.070866,
     "end_time": "2023-08-10T08:57:02.056688",
     "exception": false,
     "start_time": "2023-08-10T08:57:01.985822",
     "status": "completed"
    },
    "tags": []
   },
   "outputs": [
    {
     "data": {
      "text/plain": [
       "Evaluation(num_examples=999, accuracy=None, loss=None, rmse=0.1416113756532335, ndcg=None, aucs=None, auuc=None, qini=None)"
      ]
     },
     "execution_count": 73,
     "metadata": {},
     "output_type": "execute_result"
    }
   ],
   "source": [
    "inspector = rf.make_inspector()\n",
    "inspector.evaluation()"
   ]
  },
  {
   "cell_type": "code",
   "execution_count": 74,
   "id": "08fdcb11",
   "metadata": {
    "execution": {
     "iopub.execute_input": "2023-08-10T08:57:02.162334Z",
     "iopub.status.busy": "2023-08-10T08:57:02.161949Z",
     "iopub.status.idle": "2023-08-10T08:57:03.209967Z",
     "shell.execute_reply": "2023-08-10T08:57:03.208466Z"
    },
    "papermill": {
     "duration": 1.10427,
     "end_time": "2023-08-10T08:57:03.212687",
     "exception": false,
     "start_time": "2023-08-10T08:57:02.108417",
     "status": "completed"
    },
    "tags": []
   },
   "outputs": [
    {
     "name": "stdout",
     "output_type": "stream",
     "text": [
      "1/1 [==============================] - 1s 1s/step - loss: 0.0000e+00 - mse: 0.0155\n",
      "loss: 0.0000\n",
      "mse: 0.0155\n"
     ]
    }
   ],
   "source": [
    "evaluation = rf.evaluate(x=valid_ds,return_dict=True)\n",
    "\n",
    "for name, value in evaluation.items():\n",
    "  print(f\"{name}: {value:.4f}\")"
   ]
  },
  {
   "cell_type": "code",
   "execution_count": 75,
   "id": "f4027beb",
   "metadata": {
    "execution": {
     "iopub.execute_input": "2023-08-10T08:57:03.322468Z",
     "iopub.status.busy": "2023-08-10T08:57:03.322036Z",
     "iopub.status.idle": "2023-08-10T08:57:03.330426Z",
     "shell.execute_reply": "2023-08-10T08:57:03.328368Z"
    },
    "papermill": {
     "duration": 0.067121,
     "end_time": "2023-08-10T08:57:03.333084",
     "exception": false,
     "start_time": "2023-08-10T08:57:03.265963",
     "status": "completed"
    },
    "tags": []
   },
   "outputs": [
    {
     "data": {
      "text/plain": [
       "0.12806248474865697"
      ]
     },
     "execution_count": 75,
     "metadata": {},
     "output_type": "execute_result"
    }
   ],
   "source": [
    "np.sqrt(0.0164)"
   ]
  },
  {
   "cell_type": "code",
   "execution_count": 76,
   "id": "48848f69",
   "metadata": {
    "execution": {
     "iopub.execute_input": "2023-08-10T08:57:03.443783Z",
     "iopub.status.busy": "2023-08-10T08:57:03.443016Z",
     "iopub.status.idle": "2023-08-10T08:57:03.449182Z",
     "shell.execute_reply": "2023-08-10T08:57:03.448393Z"
    },
    "papermill": {
     "duration": 0.06307,
     "end_time": "2023-08-10T08:57:03.451280",
     "exception": false,
     "start_time": "2023-08-10T08:57:03.388210",
     "status": "completed"
    },
    "tags": []
   },
   "outputs": [
    {
     "data": {
      "text/plain": [
       "3.208987467962653"
      ]
     },
     "execution_count": 76,
     "metadata": {},
     "output_type": "execute_result"
    }
   ],
   "source": [
    "np.sqrt(np.log1p(29660.363022492173))"
   ]
  },
  {
   "cell_type": "code",
   "execution_count": 77,
   "id": "b71e446d",
   "metadata": {
    "execution": {
     "iopub.execute_input": "2023-08-10T08:57:03.578446Z",
     "iopub.status.busy": "2023-08-10T08:57:03.577428Z",
     "iopub.status.idle": "2023-08-10T08:57:03.588228Z",
     "shell.execute_reply": "2023-08-10T08:57:03.586851Z"
    },
    "papermill": {
     "duration": 0.085184,
     "end_time": "2023-08-10T08:57:03.590356",
     "exception": false,
     "start_time": "2023-08-10T08:57:03.505172",
     "status": "completed"
    },
    "tags": []
   },
   "outputs": [
    {
     "name": "stdout",
     "output_type": "stream",
     "text": [
      "Available variable importances:\n",
      "\t NUM_AS_ROOT\n",
      "\t NUM_NODES\n",
      "\t SUM_SCORE\n",
      "\t INV_MEAN_MIN_DEPTH\n"
     ]
    }
   ],
   "source": [
    "print(f\"Available variable importances:\")\n",
    "for importance in inspector.variable_importances().keys():\n",
    "  print(\"\\t\", importance)"
   ]
  },
  {
   "cell_type": "code",
   "execution_count": 78,
   "id": "ec052b94",
   "metadata": {
    "execution": {
     "iopub.execute_input": "2023-08-10T08:57:03.706363Z",
     "iopub.status.busy": "2023-08-10T08:57:03.705675Z",
     "iopub.status.idle": "2023-08-10T08:57:03.715514Z",
     "shell.execute_reply": "2023-08-10T08:57:03.714398Z"
    },
    "papermill": {
     "duration": 0.067833,
     "end_time": "2023-08-10T08:57:03.717962",
     "exception": false,
     "start_time": "2023-08-10T08:57:03.650129",
     "status": "completed"
    },
    "tags": []
   },
   "outputs": [
    {
     "data": {
      "text/plain": [
       "[(\"OverallQual\" (1; #177), 131.0),\n",
       " (\"TotalSF\" (1; #213), 95.0),\n",
       " (\"GrLivArea\" (1; #99), 27.0),\n",
       " (\"YearBuilt\" (1; #215), 23.0),\n",
       " (\"ExterQual\" (1; #45), 9.0),\n",
       " (\"FullBath\" (1; #86), 6.0),\n",
       " (\"TotalBsmtSF\" (1; #212), 4.0),\n",
       " (\"1stFlrSF\" (1; #0), 1.0),\n",
       " (\"BsmtQual\" (1; #18), 1.0),\n",
       " (\"Foundation_PConc\" (1; #82), 1.0),\n",
       " (\"GarageCars\" (1; #88), 1.0),\n",
       " (\"KitchenQual\" (1; #117), 1.0)]"
      ]
     },
     "execution_count": 78,
     "metadata": {},
     "output_type": "execute_result"
    }
   ],
   "source": [
    "inspector.variable_importances()[\"NUM_AS_ROOT\"]"
   ]
  },
  {
   "cell_type": "code",
   "execution_count": 79,
   "id": "69eda622",
   "metadata": {
    "execution": {
     "iopub.execute_input": "2023-08-10T08:57:03.826669Z",
     "iopub.status.busy": "2023-08-10T08:57:03.826158Z",
     "iopub.status.idle": "2023-08-10T08:57:05.093001Z",
     "shell.execute_reply": "2023-08-10T08:57:05.091809Z"
    },
    "papermill": {
     "duration": 1.324121,
     "end_time": "2023-08-10T08:57:05.095624",
     "exception": false,
     "start_time": "2023-08-10T08:57:03.771503",
     "status": "completed"
    },
    "tags": []
   },
   "outputs": [
    {
     "name": "stdout",
     "output_type": "stream",
     "text": [
      "Warning: Some of the feature names have been changed automatically to be compatible with SavedModels because fix_feature_names=True.\n",
      "2/2 [==============================] - 1s 103ms/step\n"
     ]
    },
    {
     "data": {
      "text/html": [
       "<div>\n",
       "<style scoped>\n",
       "    .dataframe tbody tr th:only-of-type {\n",
       "        vertical-align: middle;\n",
       "    }\n",
       "\n",
       "    .dataframe tbody tr th {\n",
       "        vertical-align: top;\n",
       "    }\n",
       "\n",
       "    .dataframe thead th {\n",
       "        text-align: right;\n",
       "    }\n",
       "</style>\n",
       "<table border=\"1\" class=\"dataframe\">\n",
       "  <thead>\n",
       "    <tr style=\"text-align: right;\">\n",
       "      <th></th>\n",
       "      <th>Id</th>\n",
       "      <th>SalePrice</th>\n",
       "    </tr>\n",
       "  </thead>\n",
       "  <tbody>\n",
       "    <tr>\n",
       "      <th>0</th>\n",
       "      <td>1461</td>\n",
       "      <td>119778.179688</td>\n",
       "    </tr>\n",
       "    <tr>\n",
       "      <th>1</th>\n",
       "      <td>1462</td>\n",
       "      <td>156727.718750</td>\n",
       "    </tr>\n",
       "    <tr>\n",
       "      <th>2</th>\n",
       "      <td>1463</td>\n",
       "      <td>174207.875000</td>\n",
       "    </tr>\n",
       "    <tr>\n",
       "      <th>3</th>\n",
       "      <td>1464</td>\n",
       "      <td>182763.281250</td>\n",
       "    </tr>\n",
       "    <tr>\n",
       "      <th>4</th>\n",
       "      <td>1465</td>\n",
       "      <td>192754.531250</td>\n",
       "    </tr>\n",
       "  </tbody>\n",
       "</table>\n",
       "</div>"
      ],
      "text/plain": [
       "     Id      SalePrice\n",
       "0  1461  119778.179688\n",
       "1  1462  156727.718750\n",
       "2  1463  174207.875000\n",
       "3  1464  182763.281250\n",
       "4  1465  192754.531250"
      ]
     },
     "execution_count": 79,
     "metadata": {},
     "output_type": "execute_result"
    }
   ],
   "source": [
    "test_data = df_test\n",
    "\n",
    "ids = pd.read_csv('/kaggle/input/house-prices-advanced-regression-techniques/test.csv')[\"Id\"]\n",
    "\n",
    "\n",
    "test_ds = tfdf.keras.pd_dataframe_to_tf_dataset(\n",
    "    test_data,\n",
    "    task = tfdf.keras.Task.REGRESSION)\n",
    "\n",
    "preds = rf.predict(test_ds)\n",
    "output = pd.DataFrame({'Id': ids,\n",
    "                       'SalePrice': np.expm1(preds.squeeze())})\n",
    "\n",
    "output.head()"
   ]
  },
  {
   "cell_type": "code",
   "execution_count": 80,
   "id": "f93e3884",
   "metadata": {
    "execution": {
     "iopub.execute_input": "2023-08-10T08:57:05.208655Z",
     "iopub.status.busy": "2023-08-10T08:57:05.208207Z",
     "iopub.status.idle": "2023-08-10T08:57:05.219299Z",
     "shell.execute_reply": "2023-08-10T08:57:05.217905Z"
    },
    "papermill": {
     "duration": 0.068881,
     "end_time": "2023-08-10T08:57:05.221457",
     "exception": false,
     "start_time": "2023-08-10T08:57:05.152576",
     "status": "completed"
    },
    "tags": []
   },
   "outputs": [
    {
     "data": {
      "text/html": [
       "<div>\n",
       "<style scoped>\n",
       "    .dataframe tbody tr th:only-of-type {\n",
       "        vertical-align: middle;\n",
       "    }\n",
       "\n",
       "    .dataframe tbody tr th {\n",
       "        vertical-align: top;\n",
       "    }\n",
       "\n",
       "    .dataframe thead th {\n",
       "        text-align: right;\n",
       "    }\n",
       "</style>\n",
       "<table border=\"1\" class=\"dataframe\">\n",
       "  <thead>\n",
       "    <tr style=\"text-align: right;\">\n",
       "      <th></th>\n",
       "      <th>Id</th>\n",
       "      <th>SalePrice</th>\n",
       "    </tr>\n",
       "  </thead>\n",
       "  <tbody>\n",
       "    <tr>\n",
       "      <th>0</th>\n",
       "      <td>1461</td>\n",
       "      <td>118195.648997</td>\n",
       "    </tr>\n",
       "    <tr>\n",
       "      <th>1</th>\n",
       "      <td>1462</td>\n",
       "      <td>160568.064853</td>\n",
       "    </tr>\n",
       "    <tr>\n",
       "      <th>2</th>\n",
       "      <td>1463</td>\n",
       "      <td>185858.381857</td>\n",
       "    </tr>\n",
       "    <tr>\n",
       "      <th>3</th>\n",
       "      <td>1464</td>\n",
       "      <td>196465.389773</td>\n",
       "    </tr>\n",
       "    <tr>\n",
       "      <th>4</th>\n",
       "      <td>1465</td>\n",
       "      <td>190849.461016</td>\n",
       "    </tr>\n",
       "  </tbody>\n",
       "</table>\n",
       "</div>"
      ],
      "text/plain": [
       "     Id      SalePrice\n",
       "0  1461  118195.648997\n",
       "1  1462  160568.064853\n",
       "2  1463  185858.381857\n",
       "3  1464  196465.389773\n",
       "4  1465  190849.461016"
      ]
     },
     "execution_count": 80,
     "metadata": {},
     "output_type": "execute_result"
    }
   ],
   "source": [
    "sub.head()"
   ]
  },
  {
   "cell_type": "code",
   "execution_count": null,
   "id": "db11d48a",
   "metadata": {
    "papermill": {
     "duration": 0.055216,
     "end_time": "2023-08-10T08:57:05.331067",
     "exception": false,
     "start_time": "2023-08-10T08:57:05.275851",
     "status": "completed"
    },
    "tags": []
   },
   "outputs": [],
   "source": []
  }
 ],
 "metadata": {
  "kernelspec": {
   "display_name": "Python 3",
   "language": "python",
   "name": "python3"
  },
  "language_info": {
   "codemirror_mode": {
    "name": "ipython",
    "version": 3
   },
   "file_extension": ".py",
   "mimetype": "text/x-python",
   "name": "python",
   "nbconvert_exporter": "python",
   "pygments_lexer": "ipython3",
   "version": "3.9.7"
  },
  "papermill": {
   "default_parameters": {},
   "duration": 783.451646,
   "end_time": "2023-08-10T08:57:08.325087",
   "environment_variables": {},
   "exception": null,
   "input_path": "__notebook__.ipynb",
   "output_path": "__notebook__.ipynb",
   "parameters": {},
   "start_time": "2023-08-10T08:44:04.873441",
   "version": "2.4.0"
  }
 },
 "nbformat": 4,
 "nbformat_minor": 5
}
